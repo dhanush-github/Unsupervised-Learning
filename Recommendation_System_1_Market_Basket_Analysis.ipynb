{
  "cells": [
    {
      "cell_type": "markdown",
      "metadata": {
        "id": "uN7Gzch-TzCa"
      },
      "source": [
        "## Content\n",
        "\n",
        "- **Motivation**\n",
        "\n",
        "- **Mathematical Notation**\n",
        "\n",
        "- **Apriori Algorithm**\n",
        "    - Issue with the approach\n",
        "    - Optimizing the idea\n",
        "    - Code walkthrough\n",
        "    - Pros and Cons\n",
        "\n",
        "- **Association Rule Mining**\n",
        "    - How dies Association rule work\n",
        "    - Examples\n",
        "    - How do we know which assocaition is more strong ?\n",
        "        - Support\n",
        "        - Confidence\n",
        "        - Lift\n",
        "    - Code walkthrough\n",
        "\n",
        "- **How can we draw conclusions from these association rules?**\n",
        "\n",
        "- **What business strategy can we follow based on these findings?**\n",
        "\n",
        "- **Summary**\n",
        "\n",
        "- **Optional Metrics**\n",
        "\n",
        "    \n",
        "\n"
      ]
    },
    {
      "cell_type": "markdown",
      "metadata": {
        "id": "4_H9Zjm-1wLM"
      },
      "source": [
        "## Motivation"
      ]
    },
    {
      "cell_type": "markdown",
      "metadata": {
        "id": "Ybkx4z_PcTKU"
      },
      "source": [
        "####  Question: How many of you watch movies online ?  "
      ]
    },
    {
      "cell_type": "markdown",
      "metadata": {
        "id": "MtTtSfbLwY5G"
      },
      "source": [
        "Whenever you visit an netflix/amazon for a movie or just a normal youtube page, you may have seen the following:"
      ]
    },
    {
      "cell_type": "markdown",
      "metadata": {
        "id": "eXCV1imAvHwE"
      },
      "source": [
        "\n",
        "\n",
        "\n",
        "<center><img src=\"https://drive.google.com/uc?id=1JMORtH1v8jKA118kP_w8OW2xurVKLPFT\" width=\"600\"> </center>\n",
        "\n",
        "\n",
        "<center><img src=\"https://drive.google.com/uc?id=1OZYvP15ThJKF-LnROrWTu_4dv2b2Ilid\" width=\"600\"> </center>\n",
        "\n"
      ]
    },
    {
      "cell_type": "markdown",
      "metadata": {
        "id": "iYLuSenRwatu"
      },
      "source": [
        "Netflix is able to recommend content based on what you enjoyed and explored.\n"
      ]
    },
    {
      "cell_type": "markdown",
      "metadata": {
        "id": "XSqXdNOCxtNc"
      },
      "source": [
        "Similarly, when you visit a supermarket\n",
        "- you may have seen products being bundled together (say, cookies and juices)\n",
        "- or discount on products if you buy them together.\n",
        "\n",
        "\n",
        "\n",
        "<center><img src=\"https://drive.google.com/uc?id=15UTPDXmXnR5oYklk87-r-wOX28vzlkLF\" width=\"600\"> </center>"
      ]
    },
    {
      "cell_type": "markdown",
      "metadata": {
        "id": "B7aEb5Nx1ZDW"
      },
      "source": [
        "#### Question: So, how are these products bundled together ?\n",
        "\n",
        "How are their placement decided in a supermarket ? Let's understand this with a simple example"
      ]
    },
    {
      "cell_type": "markdown",
      "metadata": {
        "id": "J5feJBbA4bBp"
      },
      "source": [
        "Say, you went to a DMart for shopping.\n",
        "- There are 100s or maybe 1000s of products available over there\n",
        "- But you only want to shop for groceries.\n",
        "- You picked up a cart and put in all the things that you needed and went to checkout counter\n",
        "\n",
        "<center><img src=\"https://drive.google.com/uc?id=131puYop8mPR--HQ8PDdPwNV0s_S6082Z\" width=\"600\"> </center>\n",
        "\n",
        "<center><img src=\"https://drive.google.com/uc?id=12DaPXNE-stPaGSmtwVFFGrnRqaDHU39g\" width=\"600\"> </center>\n",
        "\n",
        "\n",
        "\n",
        "\n",
        "\n",
        "\n",
        "At checkout counter, there is a long queue. So, you decided to see what other people were buying:"
      ]
    },
    {
      "cell_type": "markdown",
      "metadata": {
        "id": "Eue7olbb7BGf"
      },
      "source": [
        "<center><img src=\"https://drive.google.com/uc?id=1_vvXILoWeRA4HyQBoatW-4GZHulgbP1l\" width=\"600\"> </center>\n",
        "\n"
      ]
    },
    {
      "cell_type": "markdown",
      "metadata": {
        "id": "cof18g5I9pRN"
      },
      "source": [
        "#### Question: Did you notice a pattern in the what customers are buying ?\n",
        "\n",
        "Notice that whoever is buying bread is also buying milk.\n",
        "\n"
      ]
    },
    {
      "cell_type": "markdown",
      "metadata": {
        "id": "6aIytz4V-Bkb"
      },
      "source": [
        "#### But is there any use of this pattern ?\n",
        "\n",
        "As a store manager, recognizing the correlation between customers purchasing bread and subsequently buying milk,\n",
        "\n",
        "you strategically position these items together to capitalize on the pattern and potentially increase sales.\n",
        "\n",
        "This involves suggesting milk to customers who are already purchasing bread, thereby enhancing the likelihood of additional sales."
      ]
    },
    {
      "cell_type": "markdown",
      "metadata": {
        "id": "ClThps_v-00t"
      },
      "source": [
        "But, in real world there are 1000's of products in supermarket and hundreds of customer shopping at a single time.\n",
        "\n",
        "#### How do we find pattern in such a complex scenario ?\n",
        "\n",
        "Let's start with defining notations for all these to make our life easy.\n",
        "\n"
      ]
    },
    {
      "cell_type": "markdown",
      "metadata": {
        "id": "Cc1F-KB1BVi3"
      },
      "source": [
        "## Mathematical notation"
      ]
    },
    {
      "cell_type": "markdown",
      "metadata": {
        "id": "4wkcvvAicTNE"
      },
      "source": [
        "\n",
        "#### How many products are we dealing with here?\n",
        "\n",
        "At huge super stores like DMart,\n",
        "- we will have products across many categories:\n",
        "    - Daliy essentials, Food products (like Milk, Butter, jam , bread, etc), Beauty Products, Toys, etc.\n",
        "\n",
        "Let's define $D$ as the set of all the products we have, then,\n",
        "\n",
        "$D=\\left \\{1, 2, 3, ..., n  \\right \\}$\n",
        "\n",
        "<center><img src=\"https://drive.google.com/uc?id=1meWThjLTnqT8dhPwwmQd3067qY0bzjxF\" width=\"600\"> </center>\n",
        "\n",
        "\n",
        "<br>\n",
        "\n"
      ]
    },
    {
      "cell_type": "markdown",
      "metadata": {
        "id": "K6ZmgVAfDumC"
      },
      "source": [
        "\n",
        "#### Do we have a way of representing the items bought by a customer?\n",
        "\n",
        "Yes. Consider a customer that is done selecting the items they want, and are proceeding towards the billing counter. They present their **basket** full of products and the cashier scans the product bought and it's quantity.\n",
        "\n",
        "This is called as a **transaction**, denoted by $T$.\n",
        "\n",
        "For example,\n",
        "- Suppose a customer bought item no. 1, 3, 6, and 8.\n",
        "- This is represented as: $T1 = \\left \\{1, 3, 6, 8 \\right \\}$\n",
        "- Similarly, there are other customers that bought some items as: <br>\n",
        "$T2 = \\left \\{1, 3, 7, 12 \\right \\}$, <br>\n",
        "$T3 = \\left \\{1, 7, 3, 16 \\right \\}$ <br>\n",
        "... and so on till $m$ transactions (let).\n",
        "\n",
        "If you think about it,\n",
        "- all the transactions are the subset of the products available at supermarket.\n",
        "\n",
        "- i.e, $T$ is essentially a **subset of $D$**, i.e. $T_i ⊆ D$\n",
        "\n",
        "\n",
        "**DO NOTE:**\n",
        "\n",
        "- We are only keeping track of what products customers bought\n",
        "\n",
        "- We are **not keeping track of the quantity** of a product bought by the user, in this transaction representation.\n",
        "\n"
      ]
    },
    {
      "cell_type": "markdown",
      "metadata": {
        "id": "FCR7rAnqF9KZ"
      },
      "source": [
        "<center><img src=\"https://drive.google.com/uc?id=1YxcGw55kr3vtMpJXzjGnlvtV4ei26xDb\" width=\"600\"> </center>\n",
        "\n"
      ]
    },
    {
      "cell_type": "markdown",
      "metadata": {
        "id": "5pgCSb0dEZxc"
      },
      "source": [
        "\n",
        "#### Identifying the pattern\n",
        "\n",
        "Above we identified that customers are buying break and milk together.\n",
        "\n",
        "Similarly, there can be other patterns as well. For example:\n",
        "- Bread and milk\n",
        "- Pen and notebook\n",
        "- Toothbrush and paste\n",
        "... and so on.\n",
        "\n",
        "These are called as **item sets**.\n",
        "\n",
        "As you can see from our transaction data above also, customers that are buying Item 1, also tend to buy Item 3. Here, the item set becomes: $\\left \\{1, 3 \\right \\}$\n",
        "\n",
        "\n",
        "<br>\n",
        "\n",
        "\n",
        "\n",
        "<center><img src=\"https://drive.google.com/uc?id=1gDXe18tKlsGZQAB4WbE17cJ_7B4Sty_i\" width=\"600\"> </center>\n",
        "\n",
        "\n"
      ]
    },
    {
      "cell_type": "markdown",
      "metadata": {
        "id": "47-YOrgsGyo8"
      },
      "source": [
        "#### What's the outcome ?\n",
        "\n",
        "Suppose there comes a customer that is buying Item1 but not buying Item3,\n",
        "- since we already know based on a lot of transactional data, that these two are popularly bought together.\n",
        "- We can recommend Item3 to the customer.\n",
        "\n",
        "<center><img src=\"https://drive.google.com/uc?id=11vQp-f_KLQBIuCBMz2ILhKr_FNZ2XGGB\" width=\"600\"> </center>\n"
      ]
    },
    {
      "cell_type": "markdown",
      "metadata": {
        "id": "oUbAyYiUNJLU"
      },
      "source": [
        " For example:\n",
        "- In US, It was found that young adults between 5pm-7pm, tend to buy **beers** and **diapers** together.\n",
        "- This is a very surprising relation, that **could not have been guessed!**\n",
        "- Utilizing this fact, we can recommend the stores to keep diapers section close to where beers are kept."
      ]
    },
    {
      "cell_type": "markdown",
      "metadata": {
        "id": "LMnl695BJkwR"
      },
      "source": [
        "But, in order to recommend products,\n",
        "- we need to find the item sets from which to recommend."
      ]
    },
    {
      "cell_type": "markdown",
      "metadata": {
        "id": "OVE-P_OdcTR4"
      },
      "source": [
        "#### What is our goal ?\n",
        "\n",
        "\n",
        "**Given**\n",
        "- $D$: Set of all items, and\n",
        "- $T$: Set of all transactions\n",
        "\n",
        "where\n",
        "- Number of transactions $m$ >> Number of distinct items $n$\n",
        "\n",
        "**To find:**\n",
        "- **Item sets** that occur very frequently in transactions T.\n",
        "\n",
        "<center><img src=\"https://drive.google.com/uc?id=12QLlzsqTLGDzFic3lQiZXpSPclcYUfT7\" width=800> </center>\n",
        "\n",
        "\n",
        "<br>\n",
        "\n",
        "This technique of analyzing transaction data to give recommendations to the customer is called as **Market Basket Analysis**.\n",
        "\n",
        "It is typically used in context of an offline store, where $n$ is not too large, it is typically a few hundreds.\n"
      ]
    },
    {
      "cell_type": "markdown",
      "metadata": {
        "id": "6dXOBYfQcTPe"
      },
      "source": [
        "#### Question: So, how do we do this programatically?\n",
        "\n"
      ]
    },
    {
      "cell_type": "markdown",
      "metadata": {
        "id": "jIe5knPpbqTh"
      },
      "source": [
        "## Apriori Algorithm"
      ]
    },
    {
      "cell_type": "markdown",
      "metadata": {
        "id": "qHM6C7kRBMaO"
      },
      "source": [
        "\n",
        "Let's create **key value pairs**, where:\n",
        "- **key:** represents the **item-sets** / pairs of items bought together\n",
        "- **value:** represents the **count** of occurence of the key item set\n",
        "\n",
        "For example:\n",
        "\n",
        "<center><img src=\"https://drive.google.com/uc?id=1uDuy2GGBeWo5ddpgoai4vOKql9ZXL6MB\" width=800> </center>\n",
        "\n",
        "\n",
        "\n",
        "But, not all itemsets would be containing a pair.\n",
        "- there may be other with 3 or more than 3 items in it.\n",
        "\n",
        "\n",
        "<center><img src=\"https://drive.google.com/uc?id=1bOovKyKcwZW1IE_Q1BtqmXKZ_-sXvzC5\" width=800> </center>\n",
        "\n",
        "Item sets that have a very high frequency would have a relation, so based on that we can recommend items to the customer.\n",
        "\n",
        "\n"
      ]
    },
    {
      "cell_type": "markdown",
      "metadata": {
        "id": "VKIoxtI7GvWD"
      },
      "source": [
        "### Issue with the approach"
      ]
    },
    {
      "cell_type": "markdown",
      "metadata": {
        "id": "7efQrSp9Gzuh"
      },
      "source": [
        "We have 100s of unique items. ($D$)\n",
        "\n",
        "If we were to create subsets of all the possible keys, the total number of subsets will become a large value.\n",
        "\n",
        "\n",
        "For example:\n",
        "\n",
        "- If $D= \\left \\{1, 2, 3\\right \\}$, then all the subsets are: $\\left \\{1 \\right \\}, \\left \\{2\\right \\}, \\left \\{3 \\right \\}, \\left \\{1, 2 \\right \\}, \\left \\{1, 3 \\right \\}, \\left \\{2, 3\\right \\}, \\left \\{1, 2, 3 \\right \\}$\n",
        "\n",
        "\n",
        "i.e. we have total number of 7 possible subsets if we have 3 unique items.\n",
        "\n",
        "\n",
        "\n",
        "\n"
      ]
    },
    {
      "cell_type": "markdown",
      "metadata": {
        "id": "QIA9POllH5jc"
      },
      "source": [
        "#### Question: What if we have n items. How many subsets will we have ?\n",
        "\n",
        "> Recall what we learnt in Math in school, the number of subsets of a set with $n$ elements is: $2^n$.\n",
        "\n",
        "This is because, for all the $n$ items, there are 2 choices: To be present in the subset (1) OR be absent from the subset (0).\n",
        "\n",
        "Which means, $2*2*2*2*...*2..n \\ times = 2^n$.\n",
        "\n",
        "This even includes the empty subset.\n",
        "\n",
        "<br>\n",
        "\n",
        "<center><img src=\"https://drive.google.com/uc?id=1onBaO4YB4xWgt3bBHRB-OiYHJSxcvu8-\" width=600> </center>\n",
        "\n"
      ]
    },
    {
      "cell_type": "markdown",
      "metadata": {
        "id": "_0IekH984vhp"
      },
      "source": [
        "\n",
        "#### Question: So, what will be the time complexity ?\n",
        "\n",
        "- In our context, n is the number of products (167 in our case)\n",
        "\n",
        " - Even if we consider $n=100$, number of subsets of $D$, become $2^{100}$, which is an insanely high number.\n",
        "\n",
        "- And for each subset, we'll have to scan through all the $m$ transaction sets to get the count,  \n",
        " - where recall that $m$ is the total number of transaction data and that it might be in millions.\n",
        "\n",
        "This makes the time complexity as: $O(2^n *m)$\n",
        "\n",
        "This is very tough to compute, it'll be very **very slow.**\n",
        "\n",
        "<center><img src=\"https://drive.google.com/uc?id=1p6bCRVzHvR5w6N-DWy2CsbOchkO5djGb\" width=700> </center>\n"
      ]
    },
    {
      "cell_type": "markdown",
      "metadata": {
        "id": "T7dIwqpRwaMi"
      },
      "source": [
        "###  How can we optimise on this idea?\n",
        "\n",
        "To think of a possible optimization, first let's consider an example to get an idea across.\n"
      ]
    },
    {
      "cell_type": "markdown",
      "metadata": {
        "id": "rL7axncBYzD5"
      },
      "source": [
        "<center><img src=\"https://drive.google.com/uc?id=1VslIewem9D4h4YuG1VWyty3OhdBmVMgA\" width=700> </center>\n",
        "\n",
        "\n"
      ]
    },
    {
      "cell_type": "markdown",
      "metadata": {
        "id": "nco8grTjWj5k"
      },
      "source": [
        "Suppose,\n",
        "\n",
        "we found out that itemset $\\{ bread, butter \\}$ occurs 100 times in all the transactions.\n",
        "\n"
      ]
    },
    {
      "cell_type": "markdown",
      "metadata": {
        "id": "OcXgQJrjW7q1"
      },
      "source": [
        "#### Question: Will itemset {bread, butter, jam} occur less than, greater than or equal to 100 ?\n",
        "\n",
        "It'll be strictly less than 100.\n",
        "\n",
        "Because finding {bread, butter, jam} will be more rare than {bread, butter} in transactions."
      ]
    },
    {
      "cell_type": "markdown",
      "metadata": {
        "id": "Scb_OMNQYx3B"
      },
      "source": [
        "Now,  \n",
        "\n",
        "Imagine there's an itemset **{colgate, dairy milk}**\n",
        "- Out of 100,000 transactions, this itemset only occurs 10 times\n",
        "\n",
        "#### Question: Will you treat it as frequent item set ?\n",
        "\n",
        "No, right ?\n",
        "\n",
        "So, in order to treat an item set as frequent itemset, we need to have a **threshold value**\n",
        "\n",
        "- This threshold will help us get condifence about the item set having a repeating pattern\n",
        "    - it'll make sure that this many number of customers are known to have bought those items together.\n",
        "    - hence, filtering out the itemsets with low repetition."
      ]
    },
    {
      "cell_type": "markdown",
      "metadata": {
        "id": "LeBbjUQIbWBw"
      },
      "source": [
        "Now, suppose our **threshold** is **100**.\n",
        "\n",
        "And,\n",
        "- we know that {bread, butter} occues < 100 in transaction\n",
        "- Also, we just saw that count of {bread, butter, jam} will also be < 100.\n",
        "\n",
        "#### So, does it make sense to count the occurance of {bread, butter, jam}?\n",
        "\n",
        "No.\n",
        "\n",
        "If we know that a itemset, say {1, 2} occur less than threshold.\n",
        "- So, it's super set say, {1,2, 4} will also occur less than 100 times.\n",
        "\n",
        "**DO NOTE**\n",
        "- This threshold is also known as **minimum support (c)**"
      ]
    },
    {
      "cell_type": "markdown",
      "metadata": {
        "id": "SD9TO0SW01X9"
      },
      "source": [
        "\n",
        "#### Question: How can we use the intuition of minimum support (c) to optimize our solution approach?\n",
        "\n",
        "- While listing down all the subsets of our items, $D$, say we come across a set $A$.\n",
        "- Suppose the number of occurences of $A$ in the transaction data $T$ is less than the minimum support value, ie. $<c$\n",
        "- Then, we need not consider $A$, or any of it's subsets.\n",
        "\n",
        "For example:\n",
        "- Let $c=100$, and we have the $D = \\left \\{1, 2, 3, 4\\right \\}$ and $T$ data.\n",
        "- First, we list all the sets of size 1\n",
        " - $\\left \\{1\\right \\}, \\left \\{2\\right \\}, \\left \\{3\\right \\}, \\left \\{4\\right \\}$\n",
        "\n",
        "- Now, we find the number of occurrences of each of these,\n",
        " - Let that be equal to $110, 200, 150, 50$ respectively.\n",
        "\n",
        "- Since the number of occurrence of $\\left \\{4\\right \\}$ is less than $c$, no superset of it will occur more than 100 times, so we can ignore all of it's supersets.\n",
        "\n",
        "- Now, we find subsets of size 2, for all sets which have occurred more than c\n",
        " - $\\left \\{1, 2\\right \\}, \\left \\{1, 3\\right \\}, \\left \\{2, 3\\right \\}$\n",
        "\n",
        "- Again, we find number of occurences of each of these:\n",
        " - Let that be: $105, 110, 60$\n",
        "\n",
        "- Since $60<c$, $\\left \\{2,3\\right \\}$ is **not** a frequent item-set\n",
        "\n",
        "- Now, we build sets of size 3,\n",
        " - We know that $\\left \\{2, 3\\right \\}$ and $\\left \\{4\\right \\}$ cannot be a subset of it\n",
        " - So, the only element left is $1$, we cannot create set of length 3 with just that\n",
        " - So, there exist no superset of length 3.\n",
        "\n"
      ]
    },
    {
      "cell_type": "markdown",
      "metadata": {
        "id": "t7aYoVu8g6Dd"
      },
      "source": [
        "<center><img src=\"https://drive.google.com/uc?id=14Hmq_xnJbjO5_vy9Geol7PILT85sOrxu\" width=700> </center>\n",
        "\n",
        "\n",
        "\n"
      ]
    },
    {
      "cell_type": "markdown",
      "metadata": {
        "id": "WyxbYF25hBQd"
      },
      "source": [
        "<br>\n",
        "\n",
        "Though we'll still have to parse throught the $m$ transaction data for each item-set,\n",
        "- but we're able to significantly reduce the number of item-sets ($2^n$).\n",
        "\n"
      ]
    },
    {
      "cell_type": "markdown",
      "metadata": {
        "id": "R4plrpnSkwvs"
      },
      "source": [
        "<center><img src=\"https://drive.google.com/uc?id=1LaYWFaF186SvP5donGxdzPW3-kWZQjK2\" width=700> </center>\n"
      ]
    },
    {
      "cell_type": "markdown",
      "metadata": {
        "id": "oGaYQM1F8UAG"
      },
      "source": [
        "This approach is known as the **Apriori Algorithm**, and it was developed around 1994-95.\n",
        "\n",
        "- Though it is very simple in design, as soon as $n$ increases, it becomes too costly to be productive.\n",
        "\n",
        "**The worst case complexity is still: $O(2^n*m)$**\n"
      ]
    },
    {
      "cell_type": "markdown",
      "metadata": {
        "id": "b1pM42vtnhkC"
      },
      "source": [
        "### Code walkthrough"
      ]
    },
    {
      "cell_type": "markdown",
      "metadata": {
        "id": "tbnEAn5uYdde"
      },
      "source": [
        "\n",
        "\n",
        "#### Data loading and exploration\n",
        "\n",
        "Lets have a look at how transactional data looks like\n"
      ]
    },
    {
      "cell_type": "code",
      "execution_count": null,
      "metadata": {
        "colab": {
          "background_save": true
        },
        "id": "n45eUU3vYp2c"
      },
      "outputs": [],
      "source": [
        "import pandas as pd\n",
        "import numpy as np\n",
        "from matplotlib import pyplot as plt"
      ]
    },
    {
      "cell_type": "code",
      "execution_count": null,
      "metadata": {
        "colab": {
          "base_uri": "https://localhost:8080/"
        },
        "id": "iK6jrVNaYxzp",
        "outputId": "137e767c-b322-456a-e5f0-6cc3ce926e86"
      },
      "outputs": [
        {
          "name": "stdout",
          "output_type": "stream",
          "text": [
            "Downloading...\n",
            "From: https://drive.google.com/uc?id=1K1zSp3QZT-zByxc8Vj9AlF6PVnkISqTY\n",
            "To: /content/Groceries_data.csv\n",
            "\r  0% 0.00/1.57M [00:00<?, ?B/s]\r100% 1.57M/1.57M [00:00<00:00, 111MB/s]\n"
          ]
        }
      ],
      "source": [
        "#importing CSV uploaded to drive\n",
        "\n",
        "!gdown 1K1zSp3QZT-zByxc8Vj9AlF6PVnkISqTY"
      ]
    },
    {
      "cell_type": "code",
      "execution_count": null,
      "metadata": {
        "colab": {
          "base_uri": "https://localhost:8080/",
          "height": 206
        },
        "id": "X7oVLDaEY6yu",
        "outputId": "5179e801-275e-4887-ee58-c1cf69df89e7"
      },
      "outputs": [
        {
          "data": {
            "text/html": [
              "\n",
              "  <div id=\"df-8de2c93a-b502-4ae2-bc34-7eb63e95f77d\">\n",
              "    <div class=\"colab-df-container\">\n",
              "      <div>\n",
              "<style scoped>\n",
              "    .dataframe tbody tr th:only-of-type {\n",
              "        vertical-align: middle;\n",
              "    }\n",
              "\n",
              "    .dataframe tbody tr th {\n",
              "        vertical-align: top;\n",
              "    }\n",
              "\n",
              "    .dataframe thead th {\n",
              "        text-align: right;\n",
              "    }\n",
              "</style>\n",
              "<table border=\"1\" class=\"dataframe\">\n",
              "  <thead>\n",
              "    <tr style=\"text-align: right;\">\n",
              "      <th></th>\n",
              "      <th>Member_number</th>\n",
              "      <th>Date</th>\n",
              "      <th>itemDescription</th>\n",
              "      <th>year</th>\n",
              "      <th>month</th>\n",
              "      <th>day</th>\n",
              "      <th>day_of_week</th>\n",
              "    </tr>\n",
              "  </thead>\n",
              "  <tbody>\n",
              "    <tr>\n",
              "      <th>0</th>\n",
              "      <td>1808</td>\n",
              "      <td>2015-07-21</td>\n",
              "      <td>tropical fruit</td>\n",
              "      <td>2015</td>\n",
              "      <td>7</td>\n",
              "      <td>21</td>\n",
              "      <td>1</td>\n",
              "    </tr>\n",
              "    <tr>\n",
              "      <th>1</th>\n",
              "      <td>2552</td>\n",
              "      <td>2015-05-01</td>\n",
              "      <td>whole milk</td>\n",
              "      <td>2015</td>\n",
              "      <td>5</td>\n",
              "      <td>1</td>\n",
              "      <td>4</td>\n",
              "    </tr>\n",
              "    <tr>\n",
              "      <th>2</th>\n",
              "      <td>2300</td>\n",
              "      <td>2015-09-19</td>\n",
              "      <td>pip fruit</td>\n",
              "      <td>2015</td>\n",
              "      <td>9</td>\n",
              "      <td>19</td>\n",
              "      <td>5</td>\n",
              "    </tr>\n",
              "    <tr>\n",
              "      <th>3</th>\n",
              "      <td>1187</td>\n",
              "      <td>2015-12-12</td>\n",
              "      <td>other vegetables</td>\n",
              "      <td>2015</td>\n",
              "      <td>12</td>\n",
              "      <td>12</td>\n",
              "      <td>5</td>\n",
              "    </tr>\n",
              "    <tr>\n",
              "      <th>4</th>\n",
              "      <td>3037</td>\n",
              "      <td>2015-01-02</td>\n",
              "      <td>whole milk</td>\n",
              "      <td>2015</td>\n",
              "      <td>1</td>\n",
              "      <td>2</td>\n",
              "      <td>4</td>\n",
              "    </tr>\n",
              "  </tbody>\n",
              "</table>\n",
              "</div>\n",
              "      <button class=\"colab-df-convert\" onclick=\"convertToInteractive('df-8de2c93a-b502-4ae2-bc34-7eb63e95f77d')\"\n",
              "              title=\"Convert this dataframe to an interactive table.\"\n",
              "              style=\"display:none;\">\n",
              "        \n",
              "  <svg xmlns=\"http://www.w3.org/2000/svg\" height=\"24px\"viewBox=\"0 0 24 24\"\n",
              "       width=\"24px\">\n",
              "    <path d=\"M0 0h24v24H0V0z\" fill=\"none\"/>\n",
              "    <path d=\"M18.56 5.44l.94 2.06.94-2.06 2.06-.94-2.06-.94-.94-2.06-.94 2.06-2.06.94zm-11 1L8.5 8.5l.94-2.06 2.06-.94-2.06-.94L8.5 2.5l-.94 2.06-2.06.94zm10 10l.94 2.06.94-2.06 2.06-.94-2.06-.94-.94-2.06-.94 2.06-2.06.94z\"/><path d=\"M17.41 7.96l-1.37-1.37c-.4-.4-.92-.59-1.43-.59-.52 0-1.04.2-1.43.59L10.3 9.45l-7.72 7.72c-.78.78-.78 2.05 0 2.83L4 21.41c.39.39.9.59 1.41.59.51 0 1.02-.2 1.41-.59l7.78-7.78 2.81-2.81c.8-.78.8-2.07 0-2.86zM5.41 20L4 18.59l7.72-7.72 1.47 1.35L5.41 20z\"/>\n",
              "  </svg>\n",
              "      </button>\n",
              "      \n",
              "  <style>\n",
              "    .colab-df-container {\n",
              "      display:flex;\n",
              "      flex-wrap:wrap;\n",
              "      gap: 12px;\n",
              "    }\n",
              "\n",
              "    .colab-df-convert {\n",
              "      background-color: #E8F0FE;\n",
              "      border: none;\n",
              "      border-radius: 50%;\n",
              "      cursor: pointer;\n",
              "      display: none;\n",
              "      fill: #1967D2;\n",
              "      height: 32px;\n",
              "      padding: 0 0 0 0;\n",
              "      width: 32px;\n",
              "    }\n",
              "\n",
              "    .colab-df-convert:hover {\n",
              "      background-color: #E2EBFA;\n",
              "      box-shadow: 0px 1px 2px rgba(60, 64, 67, 0.3), 0px 1px 3px 1px rgba(60, 64, 67, 0.15);\n",
              "      fill: #174EA6;\n",
              "    }\n",
              "\n",
              "    [theme=dark] .colab-df-convert {\n",
              "      background-color: #3B4455;\n",
              "      fill: #D2E3FC;\n",
              "    }\n",
              "\n",
              "    [theme=dark] .colab-df-convert:hover {\n",
              "      background-color: #434B5C;\n",
              "      box-shadow: 0px 1px 3px 1px rgba(0, 0, 0, 0.15);\n",
              "      filter: drop-shadow(0px 1px 2px rgba(0, 0, 0, 0.3));\n",
              "      fill: #FFFFFF;\n",
              "    }\n",
              "  </style>\n",
              "\n",
              "      <script>\n",
              "        const buttonEl =\n",
              "          document.querySelector('#df-8de2c93a-b502-4ae2-bc34-7eb63e95f77d button.colab-df-convert');\n",
              "        buttonEl.style.display =\n",
              "          google.colab.kernel.accessAllowed ? 'block' : 'none';\n",
              "\n",
              "        async function convertToInteractive(key) {\n",
              "          const element = document.querySelector('#df-8de2c93a-b502-4ae2-bc34-7eb63e95f77d');\n",
              "          const dataTable =\n",
              "            await google.colab.kernel.invokeFunction('convertToInteractive',\n",
              "                                                     [key], {});\n",
              "          if (!dataTable) return;\n",
              "\n",
              "          const docLinkHtml = 'Like what you see? Visit the ' +\n",
              "            '<a target=\"_blank\" href=https://colab.research.google.com/notebooks/data_table.ipynb>data table notebook</a>'\n",
              "            + ' to learn more about interactive tables.';\n",
              "          element.innerHTML = '';\n",
              "          dataTable['output_type'] = 'display_data';\n",
              "          await google.colab.output.renderOutput(dataTable, element);\n",
              "          const docLink = document.createElement('div');\n",
              "          docLink.innerHTML = docLinkHtml;\n",
              "          element.appendChild(docLink);\n",
              "        }\n",
              "      </script>\n",
              "    </div>\n",
              "  </div>\n",
              "  "
            ],
            "text/plain": [
              "   Member_number        Date   itemDescription  year  month  day  day_of_week\n",
              "0           1808  2015-07-21    tropical fruit  2015      7   21            1\n",
              "1           2552  2015-05-01        whole milk  2015      5    1            4\n",
              "2           2300  2015-09-19         pip fruit  2015      9   19            5\n",
              "3           1187  2015-12-12  other vegetables  2015     12   12            5\n",
              "4           3037  2015-01-02        whole milk  2015      1    2            4"
            ]
          },
          "execution_count": 3,
          "metadata": {},
          "output_type": "execute_result"
        }
      ],
      "source": [
        "df = pd.read_csv(\"Groceries_data.csv\")\n",
        "df.head()"
      ]
    },
    {
      "cell_type": "markdown",
      "metadata": {
        "id": "SU8-6wSsPB7r"
      },
      "source": [
        "- Only single product is mentioned in each row.\n",
        "- There's no invoice number in the data\n",
        "\n",
        "We'll check later whether a customer bought multiple items at a time."
      ]
    },
    {
      "cell_type": "code",
      "execution_count": null,
      "metadata": {
        "colab": {
          "base_uri": "https://localhost:8080/"
        },
        "id": "S2qZcshNZQae",
        "outputId": "f3c6f7c7-8df4-4017-f734-16715e1442f1"
      },
      "outputs": [
        {
          "name": "stdout",
          "output_type": "stream",
          "text": [
            "<class 'pandas.core.frame.DataFrame'>\n",
            "RangeIndex: 38765 entries, 0 to 38764\n",
            "Data columns (total 7 columns):\n",
            " #   Column           Non-Null Count  Dtype \n",
            "---  ------           --------------  ----- \n",
            " 0   Member_number    38765 non-null  int64 \n",
            " 1   Date             38765 non-null  object\n",
            " 2   itemDescription  38765 non-null  object\n",
            " 3   year             38765 non-null  int64 \n",
            " 4   month            38765 non-null  int64 \n",
            " 5   day              38765 non-null  int64 \n",
            " 6   day_of_week      38765 non-null  int64 \n",
            "dtypes: int64(5), object(2)\n",
            "memory usage: 2.1+ MB\n"
          ]
        }
      ],
      "source": [
        "df.info()"
      ]
    },
    {
      "cell_type": "markdown",
      "metadata": {
        "id": "6gQcwqB-ZUtX"
      },
      "source": [
        "- The dataset contains 7 features with 38765 rows\n",
        "\n",
        "\n"
      ]
    },
    {
      "cell_type": "markdown",
      "metadata": {
        "id": "x-fN1JCViS3H"
      },
      "source": [
        "#### Data Preprocessing\n",
        "\n",
        "Lets count the unique Customer and unique items"
      ]
    },
    {
      "cell_type": "code",
      "execution_count": null,
      "metadata": {
        "colab": {
          "base_uri": "https://localhost:8080/"
        },
        "id": "Rhv6Gq1miSc_",
        "outputId": "cf3bbd15-c1e6-4a91-8f53-cb626b544cfd"
      },
      "outputs": [
        {
          "name": "stdout",
          "output_type": "stream",
          "text": [
            "Number of Customers: 3898\n",
            "Number of Unique Items: 167\n"
          ]
        }
      ],
      "source": [
        "print(f'Number of Customers: {df[\"Member_number\"].nunique()}')\n",
        "print(f'Number of Unique Items: {df[\"itemDescription\"].nunique()}')"
      ]
    },
    {
      "cell_type": "code",
      "execution_count": null,
      "metadata": {
        "colab": {
          "base_uri": "https://localhost:8080/",
          "height": 300
        },
        "id": "hLJU8vthiprr",
        "outputId": "51354c4b-86dc-40bd-c5fc-27be34fc62b5"
      },
      "outputs": [
        {
          "data": {
            "text/html": [
              "\n",
              "  <div id=\"df-49fbd3cd-4422-4d5c-ba3e-200285148c79\">\n",
              "    <div class=\"colab-df-container\">\n",
              "      <div>\n",
              "<style scoped>\n",
              "    .dataframe tbody tr th:only-of-type {\n",
              "        vertical-align: middle;\n",
              "    }\n",
              "\n",
              "    .dataframe tbody tr th {\n",
              "        vertical-align: top;\n",
              "    }\n",
              "\n",
              "    .dataframe thead th {\n",
              "        text-align: right;\n",
              "    }\n",
              "</style>\n",
              "<table border=\"1\" class=\"dataframe\">\n",
              "  <thead>\n",
              "    <tr style=\"text-align: right;\">\n",
              "      <th></th>\n",
              "      <th>Member_number</th>\n",
              "      <th>year</th>\n",
              "      <th>month</th>\n",
              "      <th>day</th>\n",
              "      <th>day_of_week</th>\n",
              "    </tr>\n",
              "  </thead>\n",
              "  <tbody>\n",
              "    <tr>\n",
              "      <th>count</th>\n",
              "      <td>38765.000000</td>\n",
              "      <td>38765.000000</td>\n",
              "      <td>38765.000000</td>\n",
              "      <td>38765.000000</td>\n",
              "      <td>38765.000000</td>\n",
              "    </tr>\n",
              "    <tr>\n",
              "      <th>mean</th>\n",
              "      <td>3003.641868</td>\n",
              "      <td>2014.528518</td>\n",
              "      <td>6.477570</td>\n",
              "      <td>15.753231</td>\n",
              "      <td>3.014498</td>\n",
              "    </tr>\n",
              "    <tr>\n",
              "      <th>std</th>\n",
              "      <td>1153.611031</td>\n",
              "      <td>0.499193</td>\n",
              "      <td>3.431561</td>\n",
              "      <td>8.801391</td>\n",
              "      <td>1.987669</td>\n",
              "    </tr>\n",
              "    <tr>\n",
              "      <th>min</th>\n",
              "      <td>1000.000000</td>\n",
              "      <td>2014.000000</td>\n",
              "      <td>1.000000</td>\n",
              "      <td>1.000000</td>\n",
              "      <td>0.000000</td>\n",
              "    </tr>\n",
              "    <tr>\n",
              "      <th>25%</th>\n",
              "      <td>2002.000000</td>\n",
              "      <td>2014.000000</td>\n",
              "      <td>4.000000</td>\n",
              "      <td>8.000000</td>\n",
              "      <td>1.000000</td>\n",
              "    </tr>\n",
              "    <tr>\n",
              "      <th>50%</th>\n",
              "      <td>3005.000000</td>\n",
              "      <td>2015.000000</td>\n",
              "      <td>6.000000</td>\n",
              "      <td>16.000000</td>\n",
              "      <td>3.000000</td>\n",
              "    </tr>\n",
              "    <tr>\n",
              "      <th>75%</th>\n",
              "      <td>4007.000000</td>\n",
              "      <td>2015.000000</td>\n",
              "      <td>9.000000</td>\n",
              "      <td>23.000000</td>\n",
              "      <td>5.000000</td>\n",
              "    </tr>\n",
              "    <tr>\n",
              "      <th>max</th>\n",
              "      <td>5000.000000</td>\n",
              "      <td>2015.000000</td>\n",
              "      <td>12.000000</td>\n",
              "      <td>31.000000</td>\n",
              "      <td>6.000000</td>\n",
              "    </tr>\n",
              "  </tbody>\n",
              "</table>\n",
              "</div>\n",
              "      <button class=\"colab-df-convert\" onclick=\"convertToInteractive('df-49fbd3cd-4422-4d5c-ba3e-200285148c79')\"\n",
              "              title=\"Convert this dataframe to an interactive table.\"\n",
              "              style=\"display:none;\">\n",
              "        \n",
              "  <svg xmlns=\"http://www.w3.org/2000/svg\" height=\"24px\"viewBox=\"0 0 24 24\"\n",
              "       width=\"24px\">\n",
              "    <path d=\"M0 0h24v24H0V0z\" fill=\"none\"/>\n",
              "    <path d=\"M18.56 5.44l.94 2.06.94-2.06 2.06-.94-2.06-.94-.94-2.06-.94 2.06-2.06.94zm-11 1L8.5 8.5l.94-2.06 2.06-.94-2.06-.94L8.5 2.5l-.94 2.06-2.06.94zm10 10l.94 2.06.94-2.06 2.06-.94-2.06-.94-.94-2.06-.94 2.06-2.06.94z\"/><path d=\"M17.41 7.96l-1.37-1.37c-.4-.4-.92-.59-1.43-.59-.52 0-1.04.2-1.43.59L10.3 9.45l-7.72 7.72c-.78.78-.78 2.05 0 2.83L4 21.41c.39.39.9.59 1.41.59.51 0 1.02-.2 1.41-.59l7.78-7.78 2.81-2.81c.8-.78.8-2.07 0-2.86zM5.41 20L4 18.59l7.72-7.72 1.47 1.35L5.41 20z\"/>\n",
              "  </svg>\n",
              "      </button>\n",
              "      \n",
              "  <style>\n",
              "    .colab-df-container {\n",
              "      display:flex;\n",
              "      flex-wrap:wrap;\n",
              "      gap: 12px;\n",
              "    }\n",
              "\n",
              "    .colab-df-convert {\n",
              "      background-color: #E8F0FE;\n",
              "      border: none;\n",
              "      border-radius: 50%;\n",
              "      cursor: pointer;\n",
              "      display: none;\n",
              "      fill: #1967D2;\n",
              "      height: 32px;\n",
              "      padding: 0 0 0 0;\n",
              "      width: 32px;\n",
              "    }\n",
              "\n",
              "    .colab-df-convert:hover {\n",
              "      background-color: #E2EBFA;\n",
              "      box-shadow: 0px 1px 2px rgba(60, 64, 67, 0.3), 0px 1px 3px 1px rgba(60, 64, 67, 0.15);\n",
              "      fill: #174EA6;\n",
              "    }\n",
              "\n",
              "    [theme=dark] .colab-df-convert {\n",
              "      background-color: #3B4455;\n",
              "      fill: #D2E3FC;\n",
              "    }\n",
              "\n",
              "    [theme=dark] .colab-df-convert:hover {\n",
              "      background-color: #434B5C;\n",
              "      box-shadow: 0px 1px 3px 1px rgba(0, 0, 0, 0.15);\n",
              "      filter: drop-shadow(0px 1px 2px rgba(0, 0, 0, 0.3));\n",
              "      fill: #FFFFFF;\n",
              "    }\n",
              "  </style>\n",
              "\n",
              "      <script>\n",
              "        const buttonEl =\n",
              "          document.querySelector('#df-49fbd3cd-4422-4d5c-ba3e-200285148c79 button.colab-df-convert');\n",
              "        buttonEl.style.display =\n",
              "          google.colab.kernel.accessAllowed ? 'block' : 'none';\n",
              "\n",
              "        async function convertToInteractive(key) {\n",
              "          const element = document.querySelector('#df-49fbd3cd-4422-4d5c-ba3e-200285148c79');\n",
              "          const dataTable =\n",
              "            await google.colab.kernel.invokeFunction('convertToInteractive',\n",
              "                                                     [key], {});\n",
              "          if (!dataTable) return;\n",
              "\n",
              "          const docLinkHtml = 'Like what you see? Visit the ' +\n",
              "            '<a target=\"_blank\" href=https://colab.research.google.com/notebooks/data_table.ipynb>data table notebook</a>'\n",
              "            + ' to learn more about interactive tables.';\n",
              "          element.innerHTML = '';\n",
              "          dataTable['output_type'] = 'display_data';\n",
              "          await google.colab.output.renderOutput(dataTable, element);\n",
              "          const docLink = document.createElement('div');\n",
              "          docLink.innerHTML = docLinkHtml;\n",
              "          element.appendChild(docLink);\n",
              "        }\n",
              "      </script>\n",
              "    </div>\n",
              "  </div>\n",
              "  "
            ],
            "text/plain": [
              "       Member_number          year         month           day   day_of_week\n",
              "count   38765.000000  38765.000000  38765.000000  38765.000000  38765.000000\n",
              "mean     3003.641868   2014.528518      6.477570     15.753231      3.014498\n",
              "std      1153.611031      0.499193      3.431561      8.801391      1.987669\n",
              "min      1000.000000   2014.000000      1.000000      1.000000      0.000000\n",
              "25%      2002.000000   2014.000000      4.000000      8.000000      1.000000\n",
              "50%      3005.000000   2015.000000      6.000000     16.000000      3.000000\n",
              "75%      4007.000000   2015.000000      9.000000     23.000000      5.000000\n",
              "max      5000.000000   2015.000000     12.000000     31.000000      6.000000"
            ]
          },
          "execution_count": 6,
          "metadata": {},
          "output_type": "execute_result"
        }
      ],
      "source": [
        "df.describe()"
      ]
    },
    {
      "cell_type": "markdown",
      "metadata": {
        "id": "s_BZ0smTO3w7"
      },
      "source": [
        "Observations:\n",
        "- Customer ids range from 1000 to 5000\n",
        "- However, total count of customers are 38k. Meaning there are multiple records for single customer id\n",
        "\n",
        "- Also, data given to us is for year 2014 - 2015"
      ]
    },
    {
      "cell_type": "code",
      "execution_count": null,
      "metadata": {
        "colab": {
          "base_uri": "https://localhost:8080/",
          "height": 175
        },
        "id": "hhRVJLoWOtWB",
        "outputId": "9b49435b-4f5b-4331-9082-f1fa498c785f"
      },
      "outputs": [
        {
          "data": {
            "text/html": [
              "\n",
              "  <div id=\"df-73f90ff4-5860-43e4-a8a2-8b5a2a96abca\">\n",
              "    <div class=\"colab-df-container\">\n",
              "      <div>\n",
              "<style scoped>\n",
              "    .dataframe tbody tr th:only-of-type {\n",
              "        vertical-align: middle;\n",
              "    }\n",
              "\n",
              "    .dataframe tbody tr th {\n",
              "        vertical-align: top;\n",
              "    }\n",
              "\n",
              "    .dataframe thead th {\n",
              "        text-align: right;\n",
              "    }\n",
              "</style>\n",
              "<table border=\"1\" class=\"dataframe\">\n",
              "  <thead>\n",
              "    <tr style=\"text-align: right;\">\n",
              "      <th></th>\n",
              "      <th>Date</th>\n",
              "      <th>itemDescription</th>\n",
              "    </tr>\n",
              "  </thead>\n",
              "  <tbody>\n",
              "    <tr>\n",
              "      <th>count</th>\n",
              "      <td>38765</td>\n",
              "      <td>38765</td>\n",
              "    </tr>\n",
              "    <tr>\n",
              "      <th>unique</th>\n",
              "      <td>728</td>\n",
              "      <td>167</td>\n",
              "    </tr>\n",
              "    <tr>\n",
              "      <th>top</th>\n",
              "      <td>2015-01-21</td>\n",
              "      <td>whole milk</td>\n",
              "    </tr>\n",
              "    <tr>\n",
              "      <th>freq</th>\n",
              "      <td>96</td>\n",
              "      <td>2502</td>\n",
              "    </tr>\n",
              "  </tbody>\n",
              "</table>\n",
              "</div>\n",
              "      <button class=\"colab-df-convert\" onclick=\"convertToInteractive('df-73f90ff4-5860-43e4-a8a2-8b5a2a96abca')\"\n",
              "              title=\"Convert this dataframe to an interactive table.\"\n",
              "              style=\"display:none;\">\n",
              "        \n",
              "  <svg xmlns=\"http://www.w3.org/2000/svg\" height=\"24px\"viewBox=\"0 0 24 24\"\n",
              "       width=\"24px\">\n",
              "    <path d=\"M0 0h24v24H0V0z\" fill=\"none\"/>\n",
              "    <path d=\"M18.56 5.44l.94 2.06.94-2.06 2.06-.94-2.06-.94-.94-2.06-.94 2.06-2.06.94zm-11 1L8.5 8.5l.94-2.06 2.06-.94-2.06-.94L8.5 2.5l-.94 2.06-2.06.94zm10 10l.94 2.06.94-2.06 2.06-.94-2.06-.94-.94-2.06-.94 2.06-2.06.94z\"/><path d=\"M17.41 7.96l-1.37-1.37c-.4-.4-.92-.59-1.43-.59-.52 0-1.04.2-1.43.59L10.3 9.45l-7.72 7.72c-.78.78-.78 2.05 0 2.83L4 21.41c.39.39.9.59 1.41.59.51 0 1.02-.2 1.41-.59l7.78-7.78 2.81-2.81c.8-.78.8-2.07 0-2.86zM5.41 20L4 18.59l7.72-7.72 1.47 1.35L5.41 20z\"/>\n",
              "  </svg>\n",
              "      </button>\n",
              "      \n",
              "  <style>\n",
              "    .colab-df-container {\n",
              "      display:flex;\n",
              "      flex-wrap:wrap;\n",
              "      gap: 12px;\n",
              "    }\n",
              "\n",
              "    .colab-df-convert {\n",
              "      background-color: #E8F0FE;\n",
              "      border: none;\n",
              "      border-radius: 50%;\n",
              "      cursor: pointer;\n",
              "      display: none;\n",
              "      fill: #1967D2;\n",
              "      height: 32px;\n",
              "      padding: 0 0 0 0;\n",
              "      width: 32px;\n",
              "    }\n",
              "\n",
              "    .colab-df-convert:hover {\n",
              "      background-color: #E2EBFA;\n",
              "      box-shadow: 0px 1px 2px rgba(60, 64, 67, 0.3), 0px 1px 3px 1px rgba(60, 64, 67, 0.15);\n",
              "      fill: #174EA6;\n",
              "    }\n",
              "\n",
              "    [theme=dark] .colab-df-convert {\n",
              "      background-color: #3B4455;\n",
              "      fill: #D2E3FC;\n",
              "    }\n",
              "\n",
              "    [theme=dark] .colab-df-convert:hover {\n",
              "      background-color: #434B5C;\n",
              "      box-shadow: 0px 1px 3px 1px rgba(0, 0, 0, 0.15);\n",
              "      filter: drop-shadow(0px 1px 2px rgba(0, 0, 0, 0.3));\n",
              "      fill: #FFFFFF;\n",
              "    }\n",
              "  </style>\n",
              "\n",
              "      <script>\n",
              "        const buttonEl =\n",
              "          document.querySelector('#df-73f90ff4-5860-43e4-a8a2-8b5a2a96abca button.colab-df-convert');\n",
              "        buttonEl.style.display =\n",
              "          google.colab.kernel.accessAllowed ? 'block' : 'none';\n",
              "\n",
              "        async function convertToInteractive(key) {\n",
              "          const element = document.querySelector('#df-73f90ff4-5860-43e4-a8a2-8b5a2a96abca');\n",
              "          const dataTable =\n",
              "            await google.colab.kernel.invokeFunction('convertToInteractive',\n",
              "                                                     [key], {});\n",
              "          if (!dataTable) return;\n",
              "\n",
              "          const docLinkHtml = 'Like what you see? Visit the ' +\n",
              "            '<a target=\"_blank\" href=https://colab.research.google.com/notebooks/data_table.ipynb>data table notebook</a>'\n",
              "            + ' to learn more about interactive tables.';\n",
              "          element.innerHTML = '';\n",
              "          dataTable['output_type'] = 'display_data';\n",
              "          await google.colab.output.renderOutput(dataTable, element);\n",
              "          const docLink = document.createElement('div');\n",
              "          docLink.innerHTML = docLinkHtml;\n",
              "          element.appendChild(docLink);\n",
              "        }\n",
              "      </script>\n",
              "    </div>\n",
              "  </div>\n",
              "  "
            ],
            "text/plain": [
              "              Date itemDescription\n",
              "count        38765           38765\n",
              "unique         728             167\n",
              "top     2015-01-21      whole milk\n",
              "freq            96            2502"
            ]
          },
          "execution_count": 7,
          "metadata": {},
          "output_type": "execute_result"
        }
      ],
      "source": [
        "df.describe(include='object')"
      ]
    },
    {
      "cell_type": "markdown",
      "metadata": {
        "id": "QopjMa7-Pgl3"
      },
      "source": [
        "- There are 728 unique dates. i.e. 2 years\n",
        "- There are 167 unique products"
      ]
    },
    {
      "cell_type": "markdown",
      "metadata": {
        "id": "Db6JZiT5ht0_"
      },
      "source": [
        "\n",
        "#### What's the most frequent bought item?"
      ]
    },
    {
      "cell_type": "code",
      "execution_count": null,
      "metadata": {
        "colab": {
          "base_uri": "https://localhost:8080/"
        },
        "id": "yJ4qed7rhxwm",
        "outputId": "b406ed41-ffe9-4c1e-d176-2a93621d8c1c"
      },
      "outputs": [
        {
          "data": {
            "text/plain": [
              "whole milk               2502\n",
              "other vegetables         1898\n",
              "rolls/buns               1716\n",
              "soda                     1514\n",
              "yogurt                   1334\n",
              "                         ... \n",
              "rubbing alcohol             5\n",
              "bags                        4\n",
              "baby cosmetics              3\n",
              "kitchen utensil             1\n",
              "preservation products       1\n",
              "Name: itemDescription, Length: 167, dtype: int64"
            ]
          },
          "execution_count": 8,
          "metadata": {},
          "output_type": "execute_result"
        }
      ],
      "source": [
        "df['itemDescription'].value_counts()"
      ]
    },
    {
      "cell_type": "markdown",
      "metadata": {
        "id": "phCRUxPKh2D1"
      },
      "source": [
        "- Milk is one of the most frequent bought item followed by other vegetables."
      ]
    },
    {
      "cell_type": "markdown",
      "metadata": {
        "id": "cGJVV0spiGuo"
      },
      "source": [
        "Since, each row only represents single item.\n",
        "\n",
        "Let's check if there are multiple records for a member on a same date.\n",
        "\n"
      ]
    },
    {
      "cell_type": "code",
      "execution_count": null,
      "metadata": {
        "colab": {
          "base_uri": "https://localhost:8080/",
          "height": 424
        },
        "id": "ZZeuB5yoiPS6",
        "outputId": "82a35d1f-b3a6-40bd-a33a-5bed4e9e693d"
      },
      "outputs": [
        {
          "data": {
            "text/html": [
              "\n",
              "  <div id=\"df-79cc040f-301a-4523-b349-0fc4f0bb00f5\">\n",
              "    <div class=\"colab-df-container\">\n",
              "      <div>\n",
              "<style scoped>\n",
              "    .dataframe tbody tr th:only-of-type {\n",
              "        vertical-align: middle;\n",
              "    }\n",
              "\n",
              "    .dataframe tbody tr th {\n",
              "        vertical-align: top;\n",
              "    }\n",
              "\n",
              "    .dataframe thead th {\n",
              "        text-align: right;\n",
              "    }\n",
              "</style>\n",
              "<table border=\"1\" class=\"dataframe\">\n",
              "  <thead>\n",
              "    <tr style=\"text-align: right;\">\n",
              "      <th></th>\n",
              "      <th>Member_number</th>\n",
              "      <th>Date</th>\n",
              "      <th>itemDescription</th>\n",
              "      <th>year</th>\n",
              "      <th>month</th>\n",
              "      <th>day</th>\n",
              "      <th>day_of_week</th>\n",
              "    </tr>\n",
              "  </thead>\n",
              "  <tbody>\n",
              "    <tr>\n",
              "      <th>13331</th>\n",
              "      <td>1000</td>\n",
              "      <td>2014-06-24</td>\n",
              "      <td>whole milk</td>\n",
              "      <td>2014</td>\n",
              "      <td>6</td>\n",
              "      <td>24</td>\n",
              "      <td>1</td>\n",
              "    </tr>\n",
              "    <tr>\n",
              "      <th>29480</th>\n",
              "      <td>1000</td>\n",
              "      <td>2014-06-24</td>\n",
              "      <td>pastry</td>\n",
              "      <td>2014</td>\n",
              "      <td>6</td>\n",
              "      <td>24</td>\n",
              "      <td>1</td>\n",
              "    </tr>\n",
              "    <tr>\n",
              "      <th>32851</th>\n",
              "      <td>1000</td>\n",
              "      <td>2014-06-24</td>\n",
              "      <td>salty snack</td>\n",
              "      <td>2014</td>\n",
              "      <td>6</td>\n",
              "      <td>24</td>\n",
              "      <td>1</td>\n",
              "    </tr>\n",
              "    <tr>\n",
              "      <th>4843</th>\n",
              "      <td>1000</td>\n",
              "      <td>2015-03-15</td>\n",
              "      <td>sausage</td>\n",
              "      <td>2015</td>\n",
              "      <td>3</td>\n",
              "      <td>15</td>\n",
              "      <td>6</td>\n",
              "    </tr>\n",
              "    <tr>\n",
              "      <th>8395</th>\n",
              "      <td>1000</td>\n",
              "      <td>2015-03-15</td>\n",
              "      <td>whole milk</td>\n",
              "      <td>2015</td>\n",
              "      <td>3</td>\n",
              "      <td>15</td>\n",
              "      <td>6</td>\n",
              "    </tr>\n",
              "    <tr>\n",
              "      <th>...</th>\n",
              "      <td>...</td>\n",
              "      <td>...</td>\n",
              "      <td>...</td>\n",
              "      <td>...</td>\n",
              "      <td>...</td>\n",
              "      <td>...</td>\n",
              "      <td>...</td>\n",
              "    </tr>\n",
              "    <tr>\n",
              "      <th>9340</th>\n",
              "      <td>5000</td>\n",
              "      <td>2014-11-16</td>\n",
              "      <td>bottled beer</td>\n",
              "      <td>2014</td>\n",
              "      <td>11</td>\n",
              "      <td>16</td>\n",
              "      <td>6</td>\n",
              "    </tr>\n",
              "    <tr>\n",
              "      <th>25489</th>\n",
              "      <td>5000</td>\n",
              "      <td>2014-11-16</td>\n",
              "      <td>other vegetables</td>\n",
              "      <td>2014</td>\n",
              "      <td>11</td>\n",
              "      <td>16</td>\n",
              "      <td>6</td>\n",
              "    </tr>\n",
              "    <tr>\n",
              "      <th>3578</th>\n",
              "      <td>5000</td>\n",
              "      <td>2015-10-02</td>\n",
              "      <td>soda</td>\n",
              "      <td>2015</td>\n",
              "      <td>10</td>\n",
              "      <td>2</td>\n",
              "      <td>4</td>\n",
              "    </tr>\n",
              "    <tr>\n",
              "      <th>19727</th>\n",
              "      <td>5000</td>\n",
              "      <td>2015-10-02</td>\n",
              "      <td>root vegetables</td>\n",
              "      <td>2015</td>\n",
              "      <td>10</td>\n",
              "      <td>2</td>\n",
              "      <td>4</td>\n",
              "    </tr>\n",
              "    <tr>\n",
              "      <th>34885</th>\n",
              "      <td>5000</td>\n",
              "      <td>2015-10-02</td>\n",
              "      <td>semi-finished bread</td>\n",
              "      <td>2015</td>\n",
              "      <td>10</td>\n",
              "      <td>2</td>\n",
              "      <td>4</td>\n",
              "    </tr>\n",
              "  </tbody>\n",
              "</table>\n",
              "<p>38765 rows × 7 columns</p>\n",
              "</div>\n",
              "      <button class=\"colab-df-convert\" onclick=\"convertToInteractive('df-79cc040f-301a-4523-b349-0fc4f0bb00f5')\"\n",
              "              title=\"Convert this dataframe to an interactive table.\"\n",
              "              style=\"display:none;\">\n",
              "        \n",
              "  <svg xmlns=\"http://www.w3.org/2000/svg\" height=\"24px\"viewBox=\"0 0 24 24\"\n",
              "       width=\"24px\">\n",
              "    <path d=\"M0 0h24v24H0V0z\" fill=\"none\"/>\n",
              "    <path d=\"M18.56 5.44l.94 2.06.94-2.06 2.06-.94-2.06-.94-.94-2.06-.94 2.06-2.06.94zm-11 1L8.5 8.5l.94-2.06 2.06-.94-2.06-.94L8.5 2.5l-.94 2.06-2.06.94zm10 10l.94 2.06.94-2.06 2.06-.94-2.06-.94-.94-2.06-.94 2.06-2.06.94z\"/><path d=\"M17.41 7.96l-1.37-1.37c-.4-.4-.92-.59-1.43-.59-.52 0-1.04.2-1.43.59L10.3 9.45l-7.72 7.72c-.78.78-.78 2.05 0 2.83L4 21.41c.39.39.9.59 1.41.59.51 0 1.02-.2 1.41-.59l7.78-7.78 2.81-2.81c.8-.78.8-2.07 0-2.86zM5.41 20L4 18.59l7.72-7.72 1.47 1.35L5.41 20z\"/>\n",
              "  </svg>\n",
              "      </button>\n",
              "      \n",
              "  <style>\n",
              "    .colab-df-container {\n",
              "      display:flex;\n",
              "      flex-wrap:wrap;\n",
              "      gap: 12px;\n",
              "    }\n",
              "\n",
              "    .colab-df-convert {\n",
              "      background-color: #E8F0FE;\n",
              "      border: none;\n",
              "      border-radius: 50%;\n",
              "      cursor: pointer;\n",
              "      display: none;\n",
              "      fill: #1967D2;\n",
              "      height: 32px;\n",
              "      padding: 0 0 0 0;\n",
              "      width: 32px;\n",
              "    }\n",
              "\n",
              "    .colab-df-convert:hover {\n",
              "      background-color: #E2EBFA;\n",
              "      box-shadow: 0px 1px 2px rgba(60, 64, 67, 0.3), 0px 1px 3px 1px rgba(60, 64, 67, 0.15);\n",
              "      fill: #174EA6;\n",
              "    }\n",
              "\n",
              "    [theme=dark] .colab-df-convert {\n",
              "      background-color: #3B4455;\n",
              "      fill: #D2E3FC;\n",
              "    }\n",
              "\n",
              "    [theme=dark] .colab-df-convert:hover {\n",
              "      background-color: #434B5C;\n",
              "      box-shadow: 0px 1px 3px 1px rgba(0, 0, 0, 0.15);\n",
              "      filter: drop-shadow(0px 1px 2px rgba(0, 0, 0, 0.3));\n",
              "      fill: #FFFFFF;\n",
              "    }\n",
              "  </style>\n",
              "\n",
              "      <script>\n",
              "        const buttonEl =\n",
              "          document.querySelector('#df-79cc040f-301a-4523-b349-0fc4f0bb00f5 button.colab-df-convert');\n",
              "        buttonEl.style.display =\n",
              "          google.colab.kernel.accessAllowed ? 'block' : 'none';\n",
              "\n",
              "        async function convertToInteractive(key) {\n",
              "          const element = document.querySelector('#df-79cc040f-301a-4523-b349-0fc4f0bb00f5');\n",
              "          const dataTable =\n",
              "            await google.colab.kernel.invokeFunction('convertToInteractive',\n",
              "                                                     [key], {});\n",
              "          if (!dataTable) return;\n",
              "\n",
              "          const docLinkHtml = 'Like what you see? Visit the ' +\n",
              "            '<a target=\"_blank\" href=https://colab.research.google.com/notebooks/data_table.ipynb>data table notebook</a>'\n",
              "            + ' to learn more about interactive tables.';\n",
              "          element.innerHTML = '';\n",
              "          dataTable['output_type'] = 'display_data';\n",
              "          await google.colab.output.renderOutput(dataTable, element);\n",
              "          const docLink = document.createElement('div');\n",
              "          docLink.innerHTML = docLinkHtml;\n",
              "          element.appendChild(docLink);\n",
              "        }\n",
              "      </script>\n",
              "    </div>\n",
              "  </div>\n",
              "  "
            ],
            "text/plain": [
              "       Member_number        Date      itemDescription  year  month  day  \\\n",
              "13331           1000  2014-06-24           whole milk  2014      6   24   \n",
              "29480           1000  2014-06-24               pastry  2014      6   24   \n",
              "32851           1000  2014-06-24          salty snack  2014      6   24   \n",
              "4843            1000  2015-03-15              sausage  2015      3   15   \n",
              "8395            1000  2015-03-15           whole milk  2015      3   15   \n",
              "...              ...         ...                  ...   ...    ...  ...   \n",
              "9340            5000  2014-11-16         bottled beer  2014     11   16   \n",
              "25489           5000  2014-11-16     other vegetables  2014     11   16   \n",
              "3578            5000  2015-10-02                 soda  2015     10    2   \n",
              "19727           5000  2015-10-02      root vegetables  2015     10    2   \n",
              "34885           5000  2015-10-02  semi-finished bread  2015     10    2   \n",
              "\n",
              "       day_of_week  \n",
              "13331            1  \n",
              "29480            1  \n",
              "32851            1  \n",
              "4843             6  \n",
              "8395             6  \n",
              "...            ...  \n",
              "9340             6  \n",
              "25489            6  \n",
              "3578             4  \n",
              "19727            4  \n",
              "34885            4  \n",
              "\n",
              "[38765 rows x 7 columns]"
            ]
          },
          "execution_count": 9,
          "metadata": {},
          "output_type": "execute_result"
        }
      ],
      "source": [
        "df.sort_values(by = ['Member_number', 'Date'])"
      ]
    },
    {
      "cell_type": "markdown",
      "metadata": {
        "id": "ZfrwvUMoii4h"
      },
      "source": [
        "As you can see,\n",
        "- there are multiple records for a single customer on single date"
      ]
    },
    {
      "cell_type": "markdown",
      "metadata": {
        "id": "c4z-971up6lr"
      },
      "source": [
        "Let's concat all the items bought by a member in a day into a single row.\n",
        "\n",
        "For this, we'll first create a column \"invoice number\" and based on it we'll group the records."
      ]
    },
    {
      "cell_type": "code",
      "execution_count": null,
      "metadata": {
        "id": "zCpSMcFelJsS"
      },
      "outputs": [],
      "source": [
        "df['invoice_num'] = df['Member_number'].astype(str)+ '-' + df['Date']"
      ]
    },
    {
      "cell_type": "code",
      "execution_count": null,
      "metadata": {
        "id": "6am1rg5UmViW"
      },
      "outputs": [],
      "source": [
        "df['items_bought'] = df.groupby(['invoice_num'])['itemDescription'].transform(lambda x: ','.join(x))"
      ]
    },
    {
      "cell_type": "markdown",
      "metadata": {
        "id": "2aTXJ54uns7i"
      },
      "source": [
        "Notice that even after grouping the number of records are same."
      ]
    },
    {
      "cell_type": "code",
      "execution_count": null,
      "metadata": {
        "colab": {
          "base_uri": "https://localhost:8080/",
          "height": 143
        },
        "id": "pgP8sW4EnW4W",
        "outputId": "29759a07-9c9f-472c-83fa-e61934ed4696"
      },
      "outputs": [
        {
          "data": {
            "text/html": [
              "\n",
              "  <div id=\"df-056b8d32-76bb-45b2-95a1-29f9e1e5a50c\">\n",
              "    <div class=\"colab-df-container\">\n",
              "      <div>\n",
              "<style scoped>\n",
              "    .dataframe tbody tr th:only-of-type {\n",
              "        vertical-align: middle;\n",
              "    }\n",
              "\n",
              "    .dataframe tbody tr th {\n",
              "        vertical-align: top;\n",
              "    }\n",
              "\n",
              "    .dataframe thead th {\n",
              "        text-align: right;\n",
              "    }\n",
              "</style>\n",
              "<table border=\"1\" class=\"dataframe\">\n",
              "  <thead>\n",
              "    <tr style=\"text-align: right;\">\n",
              "      <th></th>\n",
              "      <th>Member_number</th>\n",
              "      <th>Date</th>\n",
              "      <th>itemDescription</th>\n",
              "      <th>year</th>\n",
              "      <th>month</th>\n",
              "      <th>day</th>\n",
              "      <th>day_of_week</th>\n",
              "      <th>invoice_num</th>\n",
              "      <th>items_bought</th>\n",
              "    </tr>\n",
              "  </thead>\n",
              "  <tbody>\n",
              "    <tr>\n",
              "      <th>0</th>\n",
              "      <td>1808</td>\n",
              "      <td>2015-07-21</td>\n",
              "      <td>tropical fruit</td>\n",
              "      <td>2015</td>\n",
              "      <td>7</td>\n",
              "      <td>21</td>\n",
              "      <td>1</td>\n",
              "      <td>1808-2015-07-21</td>\n",
              "      <td>tropical fruit,rolls/buns,candy</td>\n",
              "    </tr>\n",
              "    <tr>\n",
              "      <th>16149</th>\n",
              "      <td>1808</td>\n",
              "      <td>2015-07-21</td>\n",
              "      <td>rolls/buns</td>\n",
              "      <td>2015</td>\n",
              "      <td>7</td>\n",
              "      <td>21</td>\n",
              "      <td>1</td>\n",
              "      <td>1808-2015-07-21</td>\n",
              "      <td>tropical fruit,rolls/buns,candy</td>\n",
              "    </tr>\n",
              "    <tr>\n",
              "      <th>36088</th>\n",
              "      <td>1808</td>\n",
              "      <td>2015-07-21</td>\n",
              "      <td>candy</td>\n",
              "      <td>2015</td>\n",
              "      <td>7</td>\n",
              "      <td>21</td>\n",
              "      <td>1</td>\n",
              "      <td>1808-2015-07-21</td>\n",
              "      <td>tropical fruit,rolls/buns,candy</td>\n",
              "    </tr>\n",
              "  </tbody>\n",
              "</table>\n",
              "</div>\n",
              "      <button class=\"colab-df-convert\" onclick=\"convertToInteractive('df-056b8d32-76bb-45b2-95a1-29f9e1e5a50c')\"\n",
              "              title=\"Convert this dataframe to an interactive table.\"\n",
              "              style=\"display:none;\">\n",
              "        \n",
              "  <svg xmlns=\"http://www.w3.org/2000/svg\" height=\"24px\"viewBox=\"0 0 24 24\"\n",
              "       width=\"24px\">\n",
              "    <path d=\"M0 0h24v24H0V0z\" fill=\"none\"/>\n",
              "    <path d=\"M18.56 5.44l.94 2.06.94-2.06 2.06-.94-2.06-.94-.94-2.06-.94 2.06-2.06.94zm-11 1L8.5 8.5l.94-2.06 2.06-.94-2.06-.94L8.5 2.5l-.94 2.06-2.06.94zm10 10l.94 2.06.94-2.06 2.06-.94-2.06-.94-.94-2.06-.94 2.06-2.06.94z\"/><path d=\"M17.41 7.96l-1.37-1.37c-.4-.4-.92-.59-1.43-.59-.52 0-1.04.2-1.43.59L10.3 9.45l-7.72 7.72c-.78.78-.78 2.05 0 2.83L4 21.41c.39.39.9.59 1.41.59.51 0 1.02-.2 1.41-.59l7.78-7.78 2.81-2.81c.8-.78.8-2.07 0-2.86zM5.41 20L4 18.59l7.72-7.72 1.47 1.35L5.41 20z\"/>\n",
              "  </svg>\n",
              "      </button>\n",
              "      \n",
              "  <style>\n",
              "    .colab-df-container {\n",
              "      display:flex;\n",
              "      flex-wrap:wrap;\n",
              "      gap: 12px;\n",
              "    }\n",
              "\n",
              "    .colab-df-convert {\n",
              "      background-color: #E8F0FE;\n",
              "      border: none;\n",
              "      border-radius: 50%;\n",
              "      cursor: pointer;\n",
              "      display: none;\n",
              "      fill: #1967D2;\n",
              "      height: 32px;\n",
              "      padding: 0 0 0 0;\n",
              "      width: 32px;\n",
              "    }\n",
              "\n",
              "    .colab-df-convert:hover {\n",
              "      background-color: #E2EBFA;\n",
              "      box-shadow: 0px 1px 2px rgba(60, 64, 67, 0.3), 0px 1px 3px 1px rgba(60, 64, 67, 0.15);\n",
              "      fill: #174EA6;\n",
              "    }\n",
              "\n",
              "    [theme=dark] .colab-df-convert {\n",
              "      background-color: #3B4455;\n",
              "      fill: #D2E3FC;\n",
              "    }\n",
              "\n",
              "    [theme=dark] .colab-df-convert:hover {\n",
              "      background-color: #434B5C;\n",
              "      box-shadow: 0px 1px 3px 1px rgba(0, 0, 0, 0.15);\n",
              "      filter: drop-shadow(0px 1px 2px rgba(0, 0, 0, 0.3));\n",
              "      fill: #FFFFFF;\n",
              "    }\n",
              "  </style>\n",
              "\n",
              "      <script>\n",
              "        const buttonEl =\n",
              "          document.querySelector('#df-056b8d32-76bb-45b2-95a1-29f9e1e5a50c button.colab-df-convert');\n",
              "        buttonEl.style.display =\n",
              "          google.colab.kernel.accessAllowed ? 'block' : 'none';\n",
              "\n",
              "        async function convertToInteractive(key) {\n",
              "          const element = document.querySelector('#df-056b8d32-76bb-45b2-95a1-29f9e1e5a50c');\n",
              "          const dataTable =\n",
              "            await google.colab.kernel.invokeFunction('convertToInteractive',\n",
              "                                                     [key], {});\n",
              "          if (!dataTable) return;\n",
              "\n",
              "          const docLinkHtml = 'Like what you see? Visit the ' +\n",
              "            '<a target=\"_blank\" href=https://colab.research.google.com/notebooks/data_table.ipynb>data table notebook</a>'\n",
              "            + ' to learn more about interactive tables.';\n",
              "          element.innerHTML = '';\n",
              "          dataTable['output_type'] = 'display_data';\n",
              "          await google.colab.output.renderOutput(dataTable, element);\n",
              "          const docLink = document.createElement('div');\n",
              "          docLink.innerHTML = docLinkHtml;\n",
              "          element.appendChild(docLink);\n",
              "        }\n",
              "      </script>\n",
              "    </div>\n",
              "  </div>\n",
              "  "
            ],
            "text/plain": [
              "       Member_number        Date itemDescription  year  month  day  \\\n",
              "0               1808  2015-07-21  tropical fruit  2015      7   21   \n",
              "16149           1808  2015-07-21      rolls/buns  2015      7   21   \n",
              "36088           1808  2015-07-21           candy  2015      7   21   \n",
              "\n",
              "       day_of_week      invoice_num                     items_bought  \n",
              "0                1  1808-2015-07-21  tropical fruit,rolls/buns,candy  \n",
              "16149            1  1808-2015-07-21  tropical fruit,rolls/buns,candy  \n",
              "36088            1  1808-2015-07-21  tropical fruit,rolls/buns,candy  "
            ]
          },
          "execution_count": 12,
          "metadata": {},
          "output_type": "execute_result"
        }
      ],
      "source": [
        "df[df['invoice_num'] == '1808-2015-07-21']"
      ]
    },
    {
      "cell_type": "markdown",
      "metadata": {
        "id": "K3CQ_BHaoqxt"
      },
      "source": [
        "There are multiple records for single items_bought. So, we'll drop the duplicate records\n",
        "\n",
        "We also don't need itemDesc column now. So, we'll drop it as well"
      ]
    },
    {
      "cell_type": "code",
      "execution_count": null,
      "metadata": {
        "id": "W5dgqjEqox_a"
      },
      "outputs": [],
      "source": [
        "df = df.drop_duplicates(['invoice_num'])"
      ]
    },
    {
      "cell_type": "code",
      "execution_count": null,
      "metadata": {
        "id": "4eZciNOln19Z"
      },
      "outputs": [],
      "source": [
        "df = df.drop('itemDescription', axis = 1)"
      ]
    },
    {
      "cell_type": "code",
      "execution_count": null,
      "metadata": {
        "colab": {
          "base_uri": "https://localhost:8080/",
          "height": 206
        },
        "id": "GLYeg1Jeplw7",
        "outputId": "8b18a623-fdc4-445e-9481-f5de56c7aa2a"
      },
      "outputs": [
        {
          "data": {
            "text/html": [
              "\n",
              "  <div id=\"df-8ba465e9-54e2-4b89-8f2e-9e193c20ea71\">\n",
              "    <div class=\"colab-df-container\">\n",
              "      <div>\n",
              "<style scoped>\n",
              "    .dataframe tbody tr th:only-of-type {\n",
              "        vertical-align: middle;\n",
              "    }\n",
              "\n",
              "    .dataframe tbody tr th {\n",
              "        vertical-align: top;\n",
              "    }\n",
              "\n",
              "    .dataframe thead th {\n",
              "        text-align: right;\n",
              "    }\n",
              "</style>\n",
              "<table border=\"1\" class=\"dataframe\">\n",
              "  <thead>\n",
              "    <tr style=\"text-align: right;\">\n",
              "      <th></th>\n",
              "      <th>Member_number</th>\n",
              "      <th>Date</th>\n",
              "      <th>year</th>\n",
              "      <th>month</th>\n",
              "      <th>day</th>\n",
              "      <th>day_of_week</th>\n",
              "      <th>invoice_num</th>\n",
              "      <th>items_bought</th>\n",
              "    </tr>\n",
              "  </thead>\n",
              "  <tbody>\n",
              "    <tr>\n",
              "      <th>0</th>\n",
              "      <td>1808</td>\n",
              "      <td>2015-07-21</td>\n",
              "      <td>2015</td>\n",
              "      <td>7</td>\n",
              "      <td>21</td>\n",
              "      <td>1</td>\n",
              "      <td>1808-2015-07-21</td>\n",
              "      <td>tropical fruit,rolls/buns,candy</td>\n",
              "    </tr>\n",
              "    <tr>\n",
              "      <th>1</th>\n",
              "      <td>2552</td>\n",
              "      <td>2015-05-01</td>\n",
              "      <td>2015</td>\n",
              "      <td>5</td>\n",
              "      <td>1</td>\n",
              "      <td>4</td>\n",
              "      <td>2552-2015-05-01</td>\n",
              "      <td>whole milk,tropical fruit,chocolate</td>\n",
              "    </tr>\n",
              "    <tr>\n",
              "      <th>2</th>\n",
              "      <td>2300</td>\n",
              "      <td>2015-09-19</td>\n",
              "      <td>2015</td>\n",
              "      <td>9</td>\n",
              "      <td>19</td>\n",
              "      <td>5</td>\n",
              "      <td>2300-2015-09-19</td>\n",
              "      <td>pip fruit,other vegetables,flour</td>\n",
              "    </tr>\n",
              "    <tr>\n",
              "      <th>3</th>\n",
              "      <td>1187</td>\n",
              "      <td>2015-12-12</td>\n",
              "      <td>2015</td>\n",
              "      <td>12</td>\n",
              "      <td>12</td>\n",
              "      <td>5</td>\n",
              "      <td>1187-2015-12-12</td>\n",
              "      <td>other vegetables,onions,shopping bags</td>\n",
              "    </tr>\n",
              "    <tr>\n",
              "      <th>4</th>\n",
              "      <td>3037</td>\n",
              "      <td>2015-01-02</td>\n",
              "      <td>2015</td>\n",
              "      <td>1</td>\n",
              "      <td>2</td>\n",
              "      <td>4</td>\n",
              "      <td>3037-2015-01-02</td>\n",
              "      <td>whole milk,other vegetables,white bread</td>\n",
              "    </tr>\n",
              "  </tbody>\n",
              "</table>\n",
              "</div>\n",
              "      <button class=\"colab-df-convert\" onclick=\"convertToInteractive('df-8ba465e9-54e2-4b89-8f2e-9e193c20ea71')\"\n",
              "              title=\"Convert this dataframe to an interactive table.\"\n",
              "              style=\"display:none;\">\n",
              "        \n",
              "  <svg xmlns=\"http://www.w3.org/2000/svg\" height=\"24px\"viewBox=\"0 0 24 24\"\n",
              "       width=\"24px\">\n",
              "    <path d=\"M0 0h24v24H0V0z\" fill=\"none\"/>\n",
              "    <path d=\"M18.56 5.44l.94 2.06.94-2.06 2.06-.94-2.06-.94-.94-2.06-.94 2.06-2.06.94zm-11 1L8.5 8.5l.94-2.06 2.06-.94-2.06-.94L8.5 2.5l-.94 2.06-2.06.94zm10 10l.94 2.06.94-2.06 2.06-.94-2.06-.94-.94-2.06-.94 2.06-2.06.94z\"/><path d=\"M17.41 7.96l-1.37-1.37c-.4-.4-.92-.59-1.43-.59-.52 0-1.04.2-1.43.59L10.3 9.45l-7.72 7.72c-.78.78-.78 2.05 0 2.83L4 21.41c.39.39.9.59 1.41.59.51 0 1.02-.2 1.41-.59l7.78-7.78 2.81-2.81c.8-.78.8-2.07 0-2.86zM5.41 20L4 18.59l7.72-7.72 1.47 1.35L5.41 20z\"/>\n",
              "  </svg>\n",
              "      </button>\n",
              "      \n",
              "  <style>\n",
              "    .colab-df-container {\n",
              "      display:flex;\n",
              "      flex-wrap:wrap;\n",
              "      gap: 12px;\n",
              "    }\n",
              "\n",
              "    .colab-df-convert {\n",
              "      background-color: #E8F0FE;\n",
              "      border: none;\n",
              "      border-radius: 50%;\n",
              "      cursor: pointer;\n",
              "      display: none;\n",
              "      fill: #1967D2;\n",
              "      height: 32px;\n",
              "      padding: 0 0 0 0;\n",
              "      width: 32px;\n",
              "    }\n",
              "\n",
              "    .colab-df-convert:hover {\n",
              "      background-color: #E2EBFA;\n",
              "      box-shadow: 0px 1px 2px rgba(60, 64, 67, 0.3), 0px 1px 3px 1px rgba(60, 64, 67, 0.15);\n",
              "      fill: #174EA6;\n",
              "    }\n",
              "\n",
              "    [theme=dark] .colab-df-convert {\n",
              "      background-color: #3B4455;\n",
              "      fill: #D2E3FC;\n",
              "    }\n",
              "\n",
              "    [theme=dark] .colab-df-convert:hover {\n",
              "      background-color: #434B5C;\n",
              "      box-shadow: 0px 1px 3px 1px rgba(0, 0, 0, 0.15);\n",
              "      filter: drop-shadow(0px 1px 2px rgba(0, 0, 0, 0.3));\n",
              "      fill: #FFFFFF;\n",
              "    }\n",
              "  </style>\n",
              "\n",
              "      <script>\n",
              "        const buttonEl =\n",
              "          document.querySelector('#df-8ba465e9-54e2-4b89-8f2e-9e193c20ea71 button.colab-df-convert');\n",
              "        buttonEl.style.display =\n",
              "          google.colab.kernel.accessAllowed ? 'block' : 'none';\n",
              "\n",
              "        async function convertToInteractive(key) {\n",
              "          const element = document.querySelector('#df-8ba465e9-54e2-4b89-8f2e-9e193c20ea71');\n",
              "          const dataTable =\n",
              "            await google.colab.kernel.invokeFunction('convertToInteractive',\n",
              "                                                     [key], {});\n",
              "          if (!dataTable) return;\n",
              "\n",
              "          const docLinkHtml = 'Like what you see? Visit the ' +\n",
              "            '<a target=\"_blank\" href=https://colab.research.google.com/notebooks/data_table.ipynb>data table notebook</a>'\n",
              "            + ' to learn more about interactive tables.';\n",
              "          element.innerHTML = '';\n",
              "          dataTable['output_type'] = 'display_data';\n",
              "          await google.colab.output.renderOutput(dataTable, element);\n",
              "          const docLink = document.createElement('div');\n",
              "          docLink.innerHTML = docLinkHtml;\n",
              "          element.appendChild(docLink);\n",
              "        }\n",
              "      </script>\n",
              "    </div>\n",
              "  </div>\n",
              "  "
            ],
            "text/plain": [
              "   Member_number        Date  year  month  day  day_of_week      invoice_num  \\\n",
              "0           1808  2015-07-21  2015      7   21            1  1808-2015-07-21   \n",
              "1           2552  2015-05-01  2015      5    1            4  2552-2015-05-01   \n",
              "2           2300  2015-09-19  2015      9   19            5  2300-2015-09-19   \n",
              "3           1187  2015-12-12  2015     12   12            5  1187-2015-12-12   \n",
              "4           3037  2015-01-02  2015      1    2            4  3037-2015-01-02   \n",
              "\n",
              "                              items_bought  \n",
              "0          tropical fruit,rolls/buns,candy  \n",
              "1      whole milk,tropical fruit,chocolate  \n",
              "2         pip fruit,other vegetables,flour  \n",
              "3    other vegetables,onions,shopping bags  \n",
              "4  whole milk,other vegetables,white bread  "
            ]
          },
          "execution_count": 15,
          "metadata": {},
          "output_type": "execute_result"
        }
      ],
      "source": [
        "df.head()"
      ]
    },
    {
      "cell_type": "markdown",
      "metadata": {
        "id": "GDD1OL8sA3Lz"
      },
      "source": [
        "\n",
        "Let's transform our data to the form of a **sparse matrix** such that:\n",
        "* We encode the basket data into a binary data that shows whether an items is bought (1) or not (0)\n",
        "\n",
        ">A sparse matrix is defined as the matrix of order MxN which has the number of zero values strictly greater than the number of non-zero values, distinct from those matrices which contain more non-zero values than zero values, they are called dense matrices.\n",
        "- why will our matrix be sparse?\n",
        "because we have a large list of items and for each transaction most of these items will not be bought. so they will be represented as zeros or false in that row. the items that are bought for that transaction will be represented by 1 or true.\n",
        "hence very few ones compared to zeros\n",
        "\n",
        "\n",
        "\n",
        "For this, we'll use a function called **[TransactionEncoder](http://rasbt.github.io/mlxtend/user_guide/preprocessing/TransactionEncoder/)**\n",
        "\n",
        ">Encodes database transaction data in form of a Python list of lists into a NumPy array. like a one-hot encoded DataFrame, where each column consists of TRUE and FALSE values that indicate whether an item was included in a transaction. Each column represents an item and each row represent a record or a transaction for one purchase.\n",
        "\n",
        "[mlxtend](https://rasbt.github.io/mlxtend/) just like scikit learn is another library for helpful data science algorithms"
      ]
    },
    {
      "cell_type": "code",
      "execution_count": null,
      "metadata": {
        "id": "_eXjKaYzrNvS"
      },
      "outputs": [],
      "source": [
        "items = df['items_bought'].apply(lambda x: x.split(','))"
      ]
    },
    {
      "cell_type": "code",
      "execution_count": null,
      "metadata": {
        "id": "P0IqWHEN3NS_"
      },
      "outputs": [],
      "source": [
        "item_list = items.to_list()"
      ]
    },
    {
      "cell_type": "code",
      "execution_count": null,
      "metadata": {
        "id": "NioOdmxVtRjP"
      },
      "outputs": [],
      "source": [
        "from mlxtend.preprocessing import TransactionEncoder"
      ]
    },
    {
      "cell_type": "code",
      "execution_count": null,
      "metadata": {
        "id": "fOBo1l9StT_R"
      },
      "outputs": [],
      "source": [
        "te = TransactionEncoder()"
      ]
    },
    {
      "cell_type": "code",
      "execution_count": null,
      "metadata": {
        "id": "lZwteTzUtYkh"
      },
      "outputs": [],
      "source": [
        "transformed_items = te.fit(item_list).transform(item_list)"
      ]
    },
    {
      "cell_type": "code",
      "execution_count": null,
      "metadata": {
        "id": "XVNvgCD3twZJ"
      },
      "outputs": [],
      "source": [
        "matrix = pd.DataFrame(transformed_items, columns = te.columns_)"
      ]
    },
    {
      "cell_type": "code",
      "execution_count": null,
      "metadata": {
        "colab": {
          "base_uri": "https://localhost:8080/",
          "height": 522
        },
        "id": "ND-KrHj92gdP",
        "outputId": "0f7d523e-12cb-433a-b055-b7dccf15425d"
      },
      "outputs": [
        {
          "data": {
            "text/html": [
              "\n",
              "  <div id=\"df-0f476331-8bf3-4c22-a51b-8ba67c247a0c\">\n",
              "    <div class=\"colab-df-container\">\n",
              "      <div>\n",
              "<style scoped>\n",
              "    .dataframe tbody tr th:only-of-type {\n",
              "        vertical-align: middle;\n",
              "    }\n",
              "\n",
              "    .dataframe tbody tr th {\n",
              "        vertical-align: top;\n",
              "    }\n",
              "\n",
              "    .dataframe thead th {\n",
              "        text-align: right;\n",
              "    }\n",
              "</style>\n",
              "<table border=\"1\" class=\"dataframe\">\n",
              "  <thead>\n",
              "    <tr style=\"text-align: right;\">\n",
              "      <th></th>\n",
              "      <th>Instant food products</th>\n",
              "      <th>UHT-milk</th>\n",
              "      <th>abrasive cleaner</th>\n",
              "      <th>artif. sweetener</th>\n",
              "      <th>baby cosmetics</th>\n",
              "      <th>bags</th>\n",
              "      <th>baking powder</th>\n",
              "      <th>bathroom cleaner</th>\n",
              "      <th>beef</th>\n",
              "      <th>berries</th>\n",
              "      <th>...</th>\n",
              "      <th>turkey</th>\n",
              "      <th>vinegar</th>\n",
              "      <th>waffles</th>\n",
              "      <th>whipped/sour cream</th>\n",
              "      <th>whisky</th>\n",
              "      <th>white bread</th>\n",
              "      <th>white wine</th>\n",
              "      <th>whole milk</th>\n",
              "      <th>yogurt</th>\n",
              "      <th>zwieback</th>\n",
              "    </tr>\n",
              "  </thead>\n",
              "  <tbody>\n",
              "    <tr>\n",
              "      <th>0</th>\n",
              "      <td>False</td>\n",
              "      <td>False</td>\n",
              "      <td>False</td>\n",
              "      <td>False</td>\n",
              "      <td>False</td>\n",
              "      <td>False</td>\n",
              "      <td>False</td>\n",
              "      <td>False</td>\n",
              "      <td>False</td>\n",
              "      <td>False</td>\n",
              "      <td>...</td>\n",
              "      <td>False</td>\n",
              "      <td>False</td>\n",
              "      <td>False</td>\n",
              "      <td>False</td>\n",
              "      <td>False</td>\n",
              "      <td>False</td>\n",
              "      <td>False</td>\n",
              "      <td>False</td>\n",
              "      <td>False</td>\n",
              "      <td>False</td>\n",
              "    </tr>\n",
              "    <tr>\n",
              "      <th>1</th>\n",
              "      <td>False</td>\n",
              "      <td>False</td>\n",
              "      <td>False</td>\n",
              "      <td>False</td>\n",
              "      <td>False</td>\n",
              "      <td>False</td>\n",
              "      <td>False</td>\n",
              "      <td>False</td>\n",
              "      <td>False</td>\n",
              "      <td>False</td>\n",
              "      <td>...</td>\n",
              "      <td>False</td>\n",
              "      <td>False</td>\n",
              "      <td>False</td>\n",
              "      <td>False</td>\n",
              "      <td>False</td>\n",
              "      <td>False</td>\n",
              "      <td>False</td>\n",
              "      <td>True</td>\n",
              "      <td>False</td>\n",
              "      <td>False</td>\n",
              "    </tr>\n",
              "    <tr>\n",
              "      <th>2</th>\n",
              "      <td>False</td>\n",
              "      <td>False</td>\n",
              "      <td>False</td>\n",
              "      <td>False</td>\n",
              "      <td>False</td>\n",
              "      <td>False</td>\n",
              "      <td>False</td>\n",
              "      <td>False</td>\n",
              "      <td>False</td>\n",
              "      <td>False</td>\n",
              "      <td>...</td>\n",
              "      <td>False</td>\n",
              "      <td>False</td>\n",
              "      <td>False</td>\n",
              "      <td>False</td>\n",
              "      <td>False</td>\n",
              "      <td>False</td>\n",
              "      <td>False</td>\n",
              "      <td>False</td>\n",
              "      <td>False</td>\n",
              "      <td>False</td>\n",
              "    </tr>\n",
              "    <tr>\n",
              "      <th>3</th>\n",
              "      <td>False</td>\n",
              "      <td>False</td>\n",
              "      <td>False</td>\n",
              "      <td>False</td>\n",
              "      <td>False</td>\n",
              "      <td>False</td>\n",
              "      <td>False</td>\n",
              "      <td>False</td>\n",
              "      <td>False</td>\n",
              "      <td>False</td>\n",
              "      <td>...</td>\n",
              "      <td>False</td>\n",
              "      <td>False</td>\n",
              "      <td>False</td>\n",
              "      <td>False</td>\n",
              "      <td>False</td>\n",
              "      <td>False</td>\n",
              "      <td>False</td>\n",
              "      <td>False</td>\n",
              "      <td>False</td>\n",
              "      <td>False</td>\n",
              "    </tr>\n",
              "    <tr>\n",
              "      <th>4</th>\n",
              "      <td>False</td>\n",
              "      <td>False</td>\n",
              "      <td>False</td>\n",
              "      <td>False</td>\n",
              "      <td>False</td>\n",
              "      <td>False</td>\n",
              "      <td>False</td>\n",
              "      <td>False</td>\n",
              "      <td>False</td>\n",
              "      <td>False</td>\n",
              "      <td>...</td>\n",
              "      <td>False</td>\n",
              "      <td>False</td>\n",
              "      <td>False</td>\n",
              "      <td>False</td>\n",
              "      <td>False</td>\n",
              "      <td>True</td>\n",
              "      <td>False</td>\n",
              "      <td>True</td>\n",
              "      <td>False</td>\n",
              "      <td>False</td>\n",
              "    </tr>\n",
              "    <tr>\n",
              "      <th>...</th>\n",
              "      <td>...</td>\n",
              "      <td>...</td>\n",
              "      <td>...</td>\n",
              "      <td>...</td>\n",
              "      <td>...</td>\n",
              "      <td>...</td>\n",
              "      <td>...</td>\n",
              "      <td>...</td>\n",
              "      <td>...</td>\n",
              "      <td>...</td>\n",
              "      <td>...</td>\n",
              "      <td>...</td>\n",
              "      <td>...</td>\n",
              "      <td>...</td>\n",
              "      <td>...</td>\n",
              "      <td>...</td>\n",
              "      <td>...</td>\n",
              "      <td>...</td>\n",
              "      <td>...</td>\n",
              "      <td>...</td>\n",
              "      <td>...</td>\n",
              "    </tr>\n",
              "    <tr>\n",
              "      <th>14958</th>\n",
              "      <td>False</td>\n",
              "      <td>False</td>\n",
              "      <td>False</td>\n",
              "      <td>False</td>\n",
              "      <td>False</td>\n",
              "      <td>False</td>\n",
              "      <td>False</td>\n",
              "      <td>False</td>\n",
              "      <td>False</td>\n",
              "      <td>False</td>\n",
              "      <td>...</td>\n",
              "      <td>False</td>\n",
              "      <td>False</td>\n",
              "      <td>False</td>\n",
              "      <td>False</td>\n",
              "      <td>False</td>\n",
              "      <td>False</td>\n",
              "      <td>False</td>\n",
              "      <td>False</td>\n",
              "      <td>True</td>\n",
              "      <td>False</td>\n",
              "    </tr>\n",
              "    <tr>\n",
              "      <th>14959</th>\n",
              "      <td>False</td>\n",
              "      <td>False</td>\n",
              "      <td>False</td>\n",
              "      <td>False</td>\n",
              "      <td>False</td>\n",
              "      <td>False</td>\n",
              "      <td>False</td>\n",
              "      <td>False</td>\n",
              "      <td>False</td>\n",
              "      <td>False</td>\n",
              "      <td>...</td>\n",
              "      <td>False</td>\n",
              "      <td>False</td>\n",
              "      <td>False</td>\n",
              "      <td>False</td>\n",
              "      <td>False</td>\n",
              "      <td>False</td>\n",
              "      <td>False</td>\n",
              "      <td>False</td>\n",
              "      <td>False</td>\n",
              "      <td>False</td>\n",
              "    </tr>\n",
              "    <tr>\n",
              "      <th>14960</th>\n",
              "      <td>False</td>\n",
              "      <td>False</td>\n",
              "      <td>False</td>\n",
              "      <td>False</td>\n",
              "      <td>False</td>\n",
              "      <td>False</td>\n",
              "      <td>False</td>\n",
              "      <td>False</td>\n",
              "      <td>False</td>\n",
              "      <td>False</td>\n",
              "      <td>...</td>\n",
              "      <td>False</td>\n",
              "      <td>False</td>\n",
              "      <td>False</td>\n",
              "      <td>False</td>\n",
              "      <td>False</td>\n",
              "      <td>False</td>\n",
              "      <td>False</td>\n",
              "      <td>False</td>\n",
              "      <td>False</td>\n",
              "      <td>False</td>\n",
              "    </tr>\n",
              "    <tr>\n",
              "      <th>14961</th>\n",
              "      <td>False</td>\n",
              "      <td>False</td>\n",
              "      <td>False</td>\n",
              "      <td>False</td>\n",
              "      <td>False</td>\n",
              "      <td>False</td>\n",
              "      <td>False</td>\n",
              "      <td>False</td>\n",
              "      <td>False</td>\n",
              "      <td>False</td>\n",
              "      <td>...</td>\n",
              "      <td>False</td>\n",
              "      <td>False</td>\n",
              "      <td>True</td>\n",
              "      <td>False</td>\n",
              "      <td>False</td>\n",
              "      <td>False</td>\n",
              "      <td>False</td>\n",
              "      <td>False</td>\n",
              "      <td>True</td>\n",
              "      <td>False</td>\n",
              "    </tr>\n",
              "    <tr>\n",
              "      <th>14962</th>\n",
              "      <td>False</td>\n",
              "      <td>False</td>\n",
              "      <td>False</td>\n",
              "      <td>False</td>\n",
              "      <td>False</td>\n",
              "      <td>False</td>\n",
              "      <td>False</td>\n",
              "      <td>False</td>\n",
              "      <td>False</td>\n",
              "      <td>False</td>\n",
              "      <td>...</td>\n",
              "      <td>False</td>\n",
              "      <td>False</td>\n",
              "      <td>False</td>\n",
              "      <td>False</td>\n",
              "      <td>False</td>\n",
              "      <td>False</td>\n",
              "      <td>False</td>\n",
              "      <td>False</td>\n",
              "      <td>False</td>\n",
              "      <td>False</td>\n",
              "    </tr>\n",
              "  </tbody>\n",
              "</table>\n",
              "<p>14963 rows × 167 columns</p>\n",
              "</div>\n",
              "      <button class=\"colab-df-convert\" onclick=\"convertToInteractive('df-0f476331-8bf3-4c22-a51b-8ba67c247a0c')\"\n",
              "              title=\"Convert this dataframe to an interactive table.\"\n",
              "              style=\"display:none;\">\n",
              "        \n",
              "  <svg xmlns=\"http://www.w3.org/2000/svg\" height=\"24px\"viewBox=\"0 0 24 24\"\n",
              "       width=\"24px\">\n",
              "    <path d=\"M0 0h24v24H0V0z\" fill=\"none\"/>\n",
              "    <path d=\"M18.56 5.44l.94 2.06.94-2.06 2.06-.94-2.06-.94-.94-2.06-.94 2.06-2.06.94zm-11 1L8.5 8.5l.94-2.06 2.06-.94-2.06-.94L8.5 2.5l-.94 2.06-2.06.94zm10 10l.94 2.06.94-2.06 2.06-.94-2.06-.94-.94-2.06-.94 2.06-2.06.94z\"/><path d=\"M17.41 7.96l-1.37-1.37c-.4-.4-.92-.59-1.43-.59-.52 0-1.04.2-1.43.59L10.3 9.45l-7.72 7.72c-.78.78-.78 2.05 0 2.83L4 21.41c.39.39.9.59 1.41.59.51 0 1.02-.2 1.41-.59l7.78-7.78 2.81-2.81c.8-.78.8-2.07 0-2.86zM5.41 20L4 18.59l7.72-7.72 1.47 1.35L5.41 20z\"/>\n",
              "  </svg>\n",
              "      </button>\n",
              "      \n",
              "  <style>\n",
              "    .colab-df-container {\n",
              "      display:flex;\n",
              "      flex-wrap:wrap;\n",
              "      gap: 12px;\n",
              "    }\n",
              "\n",
              "    .colab-df-convert {\n",
              "      background-color: #E8F0FE;\n",
              "      border: none;\n",
              "      border-radius: 50%;\n",
              "      cursor: pointer;\n",
              "      display: none;\n",
              "      fill: #1967D2;\n",
              "      height: 32px;\n",
              "      padding: 0 0 0 0;\n",
              "      width: 32px;\n",
              "    }\n",
              "\n",
              "    .colab-df-convert:hover {\n",
              "      background-color: #E2EBFA;\n",
              "      box-shadow: 0px 1px 2px rgba(60, 64, 67, 0.3), 0px 1px 3px 1px rgba(60, 64, 67, 0.15);\n",
              "      fill: #174EA6;\n",
              "    }\n",
              "\n",
              "    [theme=dark] .colab-df-convert {\n",
              "      background-color: #3B4455;\n",
              "      fill: #D2E3FC;\n",
              "    }\n",
              "\n",
              "    [theme=dark] .colab-df-convert:hover {\n",
              "      background-color: #434B5C;\n",
              "      box-shadow: 0px 1px 3px 1px rgba(0, 0, 0, 0.15);\n",
              "      filter: drop-shadow(0px 1px 2px rgba(0, 0, 0, 0.3));\n",
              "      fill: #FFFFFF;\n",
              "    }\n",
              "  </style>\n",
              "\n",
              "      <script>\n",
              "        const buttonEl =\n",
              "          document.querySelector('#df-0f476331-8bf3-4c22-a51b-8ba67c247a0c button.colab-df-convert');\n",
              "        buttonEl.style.display =\n",
              "          google.colab.kernel.accessAllowed ? 'block' : 'none';\n",
              "\n",
              "        async function convertToInteractive(key) {\n",
              "          const element = document.querySelector('#df-0f476331-8bf3-4c22-a51b-8ba67c247a0c');\n",
              "          const dataTable =\n",
              "            await google.colab.kernel.invokeFunction('convertToInteractive',\n",
              "                                                     [key], {});\n",
              "          if (!dataTable) return;\n",
              "\n",
              "          const docLinkHtml = 'Like what you see? Visit the ' +\n",
              "            '<a target=\"_blank\" href=https://colab.research.google.com/notebooks/data_table.ipynb>data table notebook</a>'\n",
              "            + ' to learn more about interactive tables.';\n",
              "          element.innerHTML = '';\n",
              "          dataTable['output_type'] = 'display_data';\n",
              "          await google.colab.output.renderOutput(dataTable, element);\n",
              "          const docLink = document.createElement('div');\n",
              "          docLink.innerHTML = docLinkHtml;\n",
              "          element.appendChild(docLink);\n",
              "        }\n",
              "      </script>\n",
              "    </div>\n",
              "  </div>\n",
              "  "
            ],
            "text/plain": [
              "       Instant food products  UHT-milk  abrasive cleaner  artif. sweetener  \\\n",
              "0                      False     False             False             False   \n",
              "1                      False     False             False             False   \n",
              "2                      False     False             False             False   \n",
              "3                      False     False             False             False   \n",
              "4                      False     False             False             False   \n",
              "...                      ...       ...               ...               ...   \n",
              "14958                  False     False             False             False   \n",
              "14959                  False     False             False             False   \n",
              "14960                  False     False             False             False   \n",
              "14961                  False     False             False             False   \n",
              "14962                  False     False             False             False   \n",
              "\n",
              "       baby cosmetics   bags  baking powder  bathroom cleaner   beef  berries  \\\n",
              "0               False  False          False             False  False    False   \n",
              "1               False  False          False             False  False    False   \n",
              "2               False  False          False             False  False    False   \n",
              "3               False  False          False             False  False    False   \n",
              "4               False  False          False             False  False    False   \n",
              "...               ...    ...            ...               ...    ...      ...   \n",
              "14958           False  False          False             False  False    False   \n",
              "14959           False  False          False             False  False    False   \n",
              "14960           False  False          False             False  False    False   \n",
              "14961           False  False          False             False  False    False   \n",
              "14962           False  False          False             False  False    False   \n",
              "\n",
              "       ...  turkey  vinegar  waffles  whipped/sour cream  whisky  white bread  \\\n",
              "0      ...   False    False    False               False   False        False   \n",
              "1      ...   False    False    False               False   False        False   \n",
              "2      ...   False    False    False               False   False        False   \n",
              "3      ...   False    False    False               False   False        False   \n",
              "4      ...   False    False    False               False   False         True   \n",
              "...    ...     ...      ...      ...                 ...     ...          ...   \n",
              "14958  ...   False    False    False               False   False        False   \n",
              "14959  ...   False    False    False               False   False        False   \n",
              "14960  ...   False    False    False               False   False        False   \n",
              "14961  ...   False    False     True               False   False        False   \n",
              "14962  ...   False    False    False               False   False        False   \n",
              "\n",
              "       white wine  whole milk  yogurt  zwieback  \n",
              "0           False       False   False     False  \n",
              "1           False        True   False     False  \n",
              "2           False       False   False     False  \n",
              "3           False       False   False     False  \n",
              "4           False        True   False     False  \n",
              "...           ...         ...     ...       ...  \n",
              "14958       False       False    True     False  \n",
              "14959       False       False   False     False  \n",
              "14960       False       False   False     False  \n",
              "14961       False       False    True     False  \n",
              "14962       False       False   False     False  \n",
              "\n",
              "[14963 rows x 167 columns]"
            ]
          },
          "execution_count": 22,
          "metadata": {},
          "output_type": "execute_result"
        }
      ],
      "source": [
        "matrix"
      ]
    },
    {
      "cell_type": "markdown",
      "metadata": {
        "id": "JRcuJ0KGFK3K"
      },
      "source": [
        "#### Implementing Apriori Algorithm\n",
        "\n",
        "We have a built-in function that implements apriori for us, under `mlxtend.frequent_patterns` library.\n",
        "\n",
        "- As we discussed, we need to specify a minimum support threshold value, as parameter of this function.\n",
        "\n",
        "- Since our column names represent the items, we use `use_colnames=True`\n",
        "\n",
        "This will give us the most frequent item-sets, so let's sort them in desending order also, using `sort_values()`\n",
        "\n",
        "Also, for easy interpretation, let's explicitly add a column stating the length of the itemset.\n",
        "\n",
        "\n",
        "Source: http://rasbt.github.io/mlxtend/user_guide/frequent_patterns/apriori/"
      ]
    },
    {
      "cell_type": "code",
      "execution_count": null,
      "metadata": {
        "id": "03s9RVJTFZBF"
      },
      "outputs": [],
      "source": [
        "from mlxtend.frequent_patterns import apriori"
      ]
    },
    {
      "cell_type": "code",
      "execution_count": null,
      "metadata": {
        "colab": {
          "base_uri": "https://localhost:8080/",
          "height": 424
        },
        "id": "0cN60IeOFQ6K",
        "outputId": "6fd7f492-95f0-40be-df23-9cb0bdc2624a"
      },
      "outputs": [
        {
          "data": {
            "text/html": [
              "\n",
              "  <div id=\"df-5e98e598-6284-4a24-bee0-4d2568813349\">\n",
              "    <div class=\"colab-df-container\">\n",
              "      <div>\n",
              "<style scoped>\n",
              "    .dataframe tbody tr th:only-of-type {\n",
              "        vertical-align: middle;\n",
              "    }\n",
              "\n",
              "    .dataframe tbody tr th {\n",
              "        vertical-align: top;\n",
              "    }\n",
              "\n",
              "    .dataframe thead th {\n",
              "        text-align: right;\n",
              "    }\n",
              "</style>\n",
              "<table border=\"1\" class=\"dataframe\">\n",
              "  <thead>\n",
              "    <tr style=\"text-align: right;\">\n",
              "      <th></th>\n",
              "      <th>support</th>\n",
              "      <th>itemsets</th>\n",
              "      <th>length</th>\n",
              "    </tr>\n",
              "  </thead>\n",
              "  <tbody>\n",
              "    <tr>\n",
              "      <th>0</th>\n",
              "      <td>0.157923</td>\n",
              "      <td>(whole milk)</td>\n",
              "      <td>1</td>\n",
              "    </tr>\n",
              "    <tr>\n",
              "      <th>1</th>\n",
              "      <td>0.122101</td>\n",
              "      <td>(other vegetables)</td>\n",
              "      <td>1</td>\n",
              "    </tr>\n",
              "    <tr>\n",
              "      <th>2</th>\n",
              "      <td>0.110005</td>\n",
              "      <td>(rolls/buns)</td>\n",
              "      <td>1</td>\n",
              "    </tr>\n",
              "    <tr>\n",
              "      <th>3</th>\n",
              "      <td>0.097106</td>\n",
              "      <td>(soda)</td>\n",
              "      <td>1</td>\n",
              "    </tr>\n",
              "    <tr>\n",
              "      <th>4</th>\n",
              "      <td>0.085879</td>\n",
              "      <td>(yogurt)</td>\n",
              "      <td>1</td>\n",
              "    </tr>\n",
              "    <tr>\n",
              "      <th>...</th>\n",
              "      <td>...</td>\n",
              "      <td>...</td>\n",
              "      <td>...</td>\n",
              "    </tr>\n",
              "    <tr>\n",
              "      <th>745</th>\n",
              "      <td>0.001002</td>\n",
              "      <td>(margarine, chicken)</td>\n",
              "      <td>2</td>\n",
              "    </tr>\n",
              "    <tr>\n",
              "      <th>746</th>\n",
              "      <td>0.001002</td>\n",
              "      <td>(bottled beer, chicken)</td>\n",
              "      <td>2</td>\n",
              "    </tr>\n",
              "    <tr>\n",
              "      <th>747</th>\n",
              "      <td>0.001002</td>\n",
              "      <td>(chocolate, bottled beer)</td>\n",
              "      <td>2</td>\n",
              "    </tr>\n",
              "    <tr>\n",
              "      <th>748</th>\n",
              "      <td>0.001002</td>\n",
              "      <td>(pastry, hamburger meat)</td>\n",
              "      <td>2</td>\n",
              "    </tr>\n",
              "    <tr>\n",
              "      <th>749</th>\n",
              "      <td>0.001002</td>\n",
              "      <td>(butter, brown bread)</td>\n",
              "      <td>2</td>\n",
              "    </tr>\n",
              "  </tbody>\n",
              "</table>\n",
              "<p>750 rows × 3 columns</p>\n",
              "</div>\n",
              "      <button class=\"colab-df-convert\" onclick=\"convertToInteractive('df-5e98e598-6284-4a24-bee0-4d2568813349')\"\n",
              "              title=\"Convert this dataframe to an interactive table.\"\n",
              "              style=\"display:none;\">\n",
              "        \n",
              "  <svg xmlns=\"http://www.w3.org/2000/svg\" height=\"24px\"viewBox=\"0 0 24 24\"\n",
              "       width=\"24px\">\n",
              "    <path d=\"M0 0h24v24H0V0z\" fill=\"none\"/>\n",
              "    <path d=\"M18.56 5.44l.94 2.06.94-2.06 2.06-.94-2.06-.94-.94-2.06-.94 2.06-2.06.94zm-11 1L8.5 8.5l.94-2.06 2.06-.94-2.06-.94L8.5 2.5l-.94 2.06-2.06.94zm10 10l.94 2.06.94-2.06 2.06-.94-2.06-.94-.94-2.06-.94 2.06-2.06.94z\"/><path d=\"M17.41 7.96l-1.37-1.37c-.4-.4-.92-.59-1.43-.59-.52 0-1.04.2-1.43.59L10.3 9.45l-7.72 7.72c-.78.78-.78 2.05 0 2.83L4 21.41c.39.39.9.59 1.41.59.51 0 1.02-.2 1.41-.59l7.78-7.78 2.81-2.81c.8-.78.8-2.07 0-2.86zM5.41 20L4 18.59l7.72-7.72 1.47 1.35L5.41 20z\"/>\n",
              "  </svg>\n",
              "      </button>\n",
              "      \n",
              "  <style>\n",
              "    .colab-df-container {\n",
              "      display:flex;\n",
              "      flex-wrap:wrap;\n",
              "      gap: 12px;\n",
              "    }\n",
              "\n",
              "    .colab-df-convert {\n",
              "      background-color: #E8F0FE;\n",
              "      border: none;\n",
              "      border-radius: 50%;\n",
              "      cursor: pointer;\n",
              "      display: none;\n",
              "      fill: #1967D2;\n",
              "      height: 32px;\n",
              "      padding: 0 0 0 0;\n",
              "      width: 32px;\n",
              "    }\n",
              "\n",
              "    .colab-df-convert:hover {\n",
              "      background-color: #E2EBFA;\n",
              "      box-shadow: 0px 1px 2px rgba(60, 64, 67, 0.3), 0px 1px 3px 1px rgba(60, 64, 67, 0.15);\n",
              "      fill: #174EA6;\n",
              "    }\n",
              "\n",
              "    [theme=dark] .colab-df-convert {\n",
              "      background-color: #3B4455;\n",
              "      fill: #D2E3FC;\n",
              "    }\n",
              "\n",
              "    [theme=dark] .colab-df-convert:hover {\n",
              "      background-color: #434B5C;\n",
              "      box-shadow: 0px 1px 3px 1px rgba(0, 0, 0, 0.15);\n",
              "      filter: drop-shadow(0px 1px 2px rgba(0, 0, 0, 0.3));\n",
              "      fill: #FFFFFF;\n",
              "    }\n",
              "  </style>\n",
              "\n",
              "      <script>\n",
              "        const buttonEl =\n",
              "          document.querySelector('#df-5e98e598-6284-4a24-bee0-4d2568813349 button.colab-df-convert');\n",
              "        buttonEl.style.display =\n",
              "          google.colab.kernel.accessAllowed ? 'block' : 'none';\n",
              "\n",
              "        async function convertToInteractive(key) {\n",
              "          const element = document.querySelector('#df-5e98e598-6284-4a24-bee0-4d2568813349');\n",
              "          const dataTable =\n",
              "            await google.colab.kernel.invokeFunction('convertToInteractive',\n",
              "                                                     [key], {});\n",
              "          if (!dataTable) return;\n",
              "\n",
              "          const docLinkHtml = 'Like what you see? Visit the ' +\n",
              "            '<a target=\"_blank\" href=https://colab.research.google.com/notebooks/data_table.ipynb>data table notebook</a>'\n",
              "            + ' to learn more about interactive tables.';\n",
              "          element.innerHTML = '';\n",
              "          dataTable['output_type'] = 'display_data';\n",
              "          await google.colab.output.renderOutput(dataTable, element);\n",
              "          const docLink = document.createElement('div');\n",
              "          docLink.innerHTML = docLinkHtml;\n",
              "          element.appendChild(docLink);\n",
              "        }\n",
              "      </script>\n",
              "    </div>\n",
              "  </div>\n",
              "  "
            ],
            "text/plain": [
              "      support                   itemsets  length\n",
              "0    0.157923               (whole milk)       1\n",
              "1    0.122101         (other vegetables)       1\n",
              "2    0.110005               (rolls/buns)       1\n",
              "3    0.097106                     (soda)       1\n",
              "4    0.085879                   (yogurt)       1\n",
              "..        ...                        ...     ...\n",
              "745  0.001002       (margarine, chicken)       2\n",
              "746  0.001002    (bottled beer, chicken)       2\n",
              "747  0.001002  (chocolate, bottled beer)       2\n",
              "748  0.001002   (pastry, hamburger meat)       2\n",
              "749  0.001002      (butter, brown bread)       2\n",
              "\n",
              "[750 rows x 3 columns]"
            ]
          },
          "execution_count": 54,
          "metadata": {},
          "output_type": "execute_result"
        }
      ],
      "source": [
        "\n",
        "\n",
        "frequent_itemsets_plus = apriori(matrix, min_support=0.001,\n",
        "                                 use_colnames=True).sort_values('support', ascending=False).reset_index(drop=True)\n",
        "\n",
        "frequent_itemsets_plus['length'] = frequent_itemsets_plus['itemsets'].apply(lambda x: len(x))\n",
        "\n",
        "frequent_itemsets_plus"
      ]
    },
    {
      "cell_type": "code",
      "execution_count": null,
      "metadata": {
        "colab": {
          "base_uri": "https://localhost:8080/",
          "height": 424
        },
        "id": "6KHLuiBtrPL4",
        "outputId": "d34f77a8-2b75-4afd-ece2-f6bb12d93c8f"
      },
      "outputs": [
        {
          "data": {
            "text/html": [
              "\n",
              "  <div id=\"df-5b3b17c4-7c45-4ecc-87e7-9803a0e27f34\">\n",
              "    <div class=\"colab-df-container\">\n",
              "      <div>\n",
              "<style scoped>\n",
              "    .dataframe tbody tr th:only-of-type {\n",
              "        vertical-align: middle;\n",
              "    }\n",
              "\n",
              "    .dataframe tbody tr th {\n",
              "        vertical-align: top;\n",
              "    }\n",
              "\n",
              "    .dataframe thead th {\n",
              "        text-align: right;\n",
              "    }\n",
              "</style>\n",
              "<table border=\"1\" class=\"dataframe\">\n",
              "  <thead>\n",
              "    <tr style=\"text-align: right;\">\n",
              "      <th></th>\n",
              "      <th>support</th>\n",
              "      <th>itemsets</th>\n",
              "      <th>length</th>\n",
              "    </tr>\n",
              "  </thead>\n",
              "  <tbody>\n",
              "    <tr>\n",
              "      <th>51</th>\n",
              "      <td>0.014837</td>\n",
              "      <td>(other vegetables, whole milk)</td>\n",
              "      <td>2</td>\n",
              "    </tr>\n",
              "    <tr>\n",
              "      <th>56</th>\n",
              "      <td>0.013968</td>\n",
              "      <td>(rolls/buns, whole milk)</td>\n",
              "      <td>2</td>\n",
              "    </tr>\n",
              "    <tr>\n",
              "      <th>62</th>\n",
              "      <td>0.011629</td>\n",
              "      <td>(soda, whole milk)</td>\n",
              "      <td>2</td>\n",
              "    </tr>\n",
              "    <tr>\n",
              "      <th>63</th>\n",
              "      <td>0.011161</td>\n",
              "      <td>(yogurt, whole milk)</td>\n",
              "      <td>2</td>\n",
              "    </tr>\n",
              "    <tr>\n",
              "      <th>65</th>\n",
              "      <td>0.010559</td>\n",
              "      <td>(rolls/buns, other vegetables)</td>\n",
              "      <td>2</td>\n",
              "    </tr>\n",
              "    <tr>\n",
              "      <th>...</th>\n",
              "      <td>...</td>\n",
              "      <td>...</td>\n",
              "      <td>...</td>\n",
              "    </tr>\n",
              "    <tr>\n",
              "      <th>745</th>\n",
              "      <td>0.001002</td>\n",
              "      <td>(margarine, chicken)</td>\n",
              "      <td>2</td>\n",
              "    </tr>\n",
              "    <tr>\n",
              "      <th>746</th>\n",
              "      <td>0.001002</td>\n",
              "      <td>(bottled beer, chicken)</td>\n",
              "      <td>2</td>\n",
              "    </tr>\n",
              "    <tr>\n",
              "      <th>747</th>\n",
              "      <td>0.001002</td>\n",
              "      <td>(chocolate, bottled beer)</td>\n",
              "      <td>2</td>\n",
              "    </tr>\n",
              "    <tr>\n",
              "      <th>748</th>\n",
              "      <td>0.001002</td>\n",
              "      <td>(pastry, hamburger meat)</td>\n",
              "      <td>2</td>\n",
              "    </tr>\n",
              "    <tr>\n",
              "      <th>749</th>\n",
              "      <td>0.001002</td>\n",
              "      <td>(butter, brown bread)</td>\n",
              "      <td>2</td>\n",
              "    </tr>\n",
              "  </tbody>\n",
              "</table>\n",
              "<p>601 rows × 3 columns</p>\n",
              "</div>\n",
              "      <button class=\"colab-df-convert\" onclick=\"convertToInteractive('df-5b3b17c4-7c45-4ecc-87e7-9803a0e27f34')\"\n",
              "              title=\"Convert this dataframe to an interactive table.\"\n",
              "              style=\"display:none;\">\n",
              "        \n",
              "  <svg xmlns=\"http://www.w3.org/2000/svg\" height=\"24px\"viewBox=\"0 0 24 24\"\n",
              "       width=\"24px\">\n",
              "    <path d=\"M0 0h24v24H0V0z\" fill=\"none\"/>\n",
              "    <path d=\"M18.56 5.44l.94 2.06.94-2.06 2.06-.94-2.06-.94-.94-2.06-.94 2.06-2.06.94zm-11 1L8.5 8.5l.94-2.06 2.06-.94-2.06-.94L8.5 2.5l-.94 2.06-2.06.94zm10 10l.94 2.06.94-2.06 2.06-.94-2.06-.94-.94-2.06-.94 2.06-2.06.94z\"/><path d=\"M17.41 7.96l-1.37-1.37c-.4-.4-.92-.59-1.43-.59-.52 0-1.04.2-1.43.59L10.3 9.45l-7.72 7.72c-.78.78-.78 2.05 0 2.83L4 21.41c.39.39.9.59 1.41.59.51 0 1.02-.2 1.41-.59l7.78-7.78 2.81-2.81c.8-.78.8-2.07 0-2.86zM5.41 20L4 18.59l7.72-7.72 1.47 1.35L5.41 20z\"/>\n",
              "  </svg>\n",
              "      </button>\n",
              "      \n",
              "  <style>\n",
              "    .colab-df-container {\n",
              "      display:flex;\n",
              "      flex-wrap:wrap;\n",
              "      gap: 12px;\n",
              "    }\n",
              "\n",
              "    .colab-df-convert {\n",
              "      background-color: #E8F0FE;\n",
              "      border: none;\n",
              "      border-radius: 50%;\n",
              "      cursor: pointer;\n",
              "      display: none;\n",
              "      fill: #1967D2;\n",
              "      height: 32px;\n",
              "      padding: 0 0 0 0;\n",
              "      width: 32px;\n",
              "    }\n",
              "\n",
              "    .colab-df-convert:hover {\n",
              "      background-color: #E2EBFA;\n",
              "      box-shadow: 0px 1px 2px rgba(60, 64, 67, 0.3), 0px 1px 3px 1px rgba(60, 64, 67, 0.15);\n",
              "      fill: #174EA6;\n",
              "    }\n",
              "\n",
              "    [theme=dark] .colab-df-convert {\n",
              "      background-color: #3B4455;\n",
              "      fill: #D2E3FC;\n",
              "    }\n",
              "\n",
              "    [theme=dark] .colab-df-convert:hover {\n",
              "      background-color: #434B5C;\n",
              "      box-shadow: 0px 1px 3px 1px rgba(0, 0, 0, 0.15);\n",
              "      filter: drop-shadow(0px 1px 2px rgba(0, 0, 0, 0.3));\n",
              "      fill: #FFFFFF;\n",
              "    }\n",
              "  </style>\n",
              "\n",
              "      <script>\n",
              "        const buttonEl =\n",
              "          document.querySelector('#df-5b3b17c4-7c45-4ecc-87e7-9803a0e27f34 button.colab-df-convert');\n",
              "        buttonEl.style.display =\n",
              "          google.colab.kernel.accessAllowed ? 'block' : 'none';\n",
              "\n",
              "        async function convertToInteractive(key) {\n",
              "          const element = document.querySelector('#df-5b3b17c4-7c45-4ecc-87e7-9803a0e27f34');\n",
              "          const dataTable =\n",
              "            await google.colab.kernel.invokeFunction('convertToInteractive',\n",
              "                                                     [key], {});\n",
              "          if (!dataTable) return;\n",
              "\n",
              "          const docLinkHtml = 'Like what you see? Visit the ' +\n",
              "            '<a target=\"_blank\" href=https://colab.research.google.com/notebooks/data_table.ipynb>data table notebook</a>'\n",
              "            + ' to learn more about interactive tables.';\n",
              "          element.innerHTML = '';\n",
              "          dataTable['output_type'] = 'display_data';\n",
              "          await google.colab.output.renderOutput(dataTable, element);\n",
              "          const docLink = document.createElement('div');\n",
              "          docLink.innerHTML = docLinkHtml;\n",
              "          element.appendChild(docLink);\n",
              "        }\n",
              "      </script>\n",
              "    </div>\n",
              "  </div>\n",
              "  "
            ],
            "text/plain": [
              "      support                        itemsets  length\n",
              "51   0.014837  (other vegetables, whole milk)       2\n",
              "56   0.013968        (rolls/buns, whole milk)       2\n",
              "62   0.011629              (soda, whole milk)       2\n",
              "63   0.011161            (yogurt, whole milk)       2\n",
              "65   0.010559  (rolls/buns, other vegetables)       2\n",
              "..        ...                             ...     ...\n",
              "745  0.001002            (margarine, chicken)       2\n",
              "746  0.001002         (bottled beer, chicken)       2\n",
              "747  0.001002       (chocolate, bottled beer)       2\n",
              "748  0.001002        (pastry, hamburger meat)       2\n",
              "749  0.001002           (butter, brown bread)       2\n",
              "\n",
              "[601 rows x 3 columns]"
            ]
          },
          "execution_count": 48,
          "metadata": {},
          "output_type": "execute_result"
        }
      ],
      "source": [
        "frequent_itemsets_plus[frequent_itemsets_plus.length >= 2]"
      ]
    },
    {
      "cell_type": "markdown",
      "metadata": {
        "id": "odQrHJPQGfMG"
      },
      "source": [
        "We get 750 most frequently occuring item-sets, using Apriori Algorithm!\n",
        "\n",
        "\n",
        "*   Using apriori algorithm, we filter frequent itemsets by giving minimum support value of 0.1%\n",
        "*   Length is the number of items in the itemset\n",
        "\n"
      ]
    },
    {
      "cell_type": "markdown",
      "metadata": {
        "id": "CUHrHlkNAbYz"
      },
      "source": [
        "### Pros and Cons"
      ]
    },
    {
      "cell_type": "markdown",
      "metadata": {
        "id": "jtv9P8_2AQcb"
      },
      "source": [
        "\n",
        "- Although it is quite simple and intuitive but\n",
        "    - it is not used in e-commerce today, where the number of products is very very large (in millions).\n",
        "\n",
        "- As n (number of products) increases, it becomes very costly.\n",
        "\n",
        "\n",
        "<center><img src=\"https://drive.google.com/uc?id=1ndK8iPt_Nvi_rmHrqa1QroZayU9Aa4Xx\" width=700> </center>\n",
        "\n",
        "\n",
        "\n",
        "\n",
        "\n",
        "\n",
        "\n"
      ]
    },
    {
      "cell_type": "markdown",
      "metadata": {
        "id": "auzC0VUPDayy"
      },
      "source": [
        "<br>\n",
        "\n",
        "#### Modification to Apriori ?\n",
        "\n",
        "Modifications have been made over the concept of Apriori algorithm with time. This has given rise to a new technique:-\n",
        "- **Frequent Pattern (FP) growth items**\n",
        " - Uses specialised data structure of **tries**\n",
        " - It is faster\n",
        "\n",
        "Regardless of the modifications of FP growth, essentially we're still performing **frequency item-set mining**\n",
        "- These are still very very expensive\n",
        "- It is useful only when the number of items $n$ of $|D|$ is small"
      ]
    },
    {
      "cell_type": "markdown",
      "metadata": {
        "id": "yGsmwWMZOyTY"
      },
      "source": [
        "---\n",
        "\n",
        "## Association Rule Mining"
      ]
    },
    {
      "cell_type": "markdown",
      "metadata": {
        "id": "EYLr7en3H_z1"
      },
      "source": [
        "<center><img src=\"https://drive.google.com/uc?id=1WeOuN0nFj8CDXdNWz5lEgUHEqUfPJQVV\" width=500> </center>\n",
        "\n",
        "\n"
      ]
    },
    {
      "cell_type": "markdown",
      "metadata": {
        "id": "7zQBV8YCG8sI"
      },
      "source": [
        "#### Question: Ever been to Mac D or Burger King ?\n",
        "\n",
        "Suppose you went to a McDonald's and order fries and burger\n",
        "- The server then recommends you a combo with a soft drink included.\n",
        "\n",
        "\n",
        "<center><img src=\"https://drive.google.com/uc?id=10jSf6gszRJNPNqX-0XnwD9RmLYj8Jxn5\" width=600> </center>\n",
        "\n",
        "Based on what you have in your order basket, they recommend you products which you may like. This is called as **cross selling**\n",
        "\n",
        "<center><img src=\"https://drive.google.com/uc?id=1UqyTRQ7iNLwy0nQM-2uYiyuN5B0pTXok\" width=600> </center>\n",
        "\n",
        "But, they can't simply recommend random products to add to your cart.\n",
        "- Imagine ordering for a burger and they recommend pan cakes. **Doesn't makes sense, right ?**\n",
        "\n",
        "So, there must be some association in the products.\n",
        "\n",
        "#### How do we find these associations ?\n",
        "\n",
        "\n",
        "\n"
      ]
    },
    {
      "cell_type": "markdown",
      "metadata": {
        "id": "7wY4rcwpO43R"
      },
      "source": [
        "\n",
        "\n",
        "We have another tool in the Market Basket Analysis, called the **Association rule**, using which we can find relations between these frequent item-sets.\n",
        "\n",
        "<br>\n",
        "\n",
        "### How does the Association rule work?\n",
        "\n",
        "Consider we have our set of items: $D = \\left\\{ 1, 2, 3, ..., n\\right\\}$\n",
        "\n",
        "Let's define X and Y as another sets of items, as follows:-\n",
        "- $X= \\left \\{1, 2, 3 \\right\\}$\n",
        "- $Y = \\left\\{ 4, 6 \\right\\}$\n",
        "\n",
        "If the item-set $\\left \\{1, 2, 3, 4, 6\\right \\}$ is a **frequent itemset**, then according to the **Association Rule** of Market Basket Analysis, we can say that\n",
        "- \"People who buy $X$, have a very high likelihood to buy $Y$ also.\n",
        "\n",
        "This can be written as: $X -> Y$\n",
        "\n",
        "**It is read as: \"If X, then Y\".**\n",
        "\n",
        "<center><img src=\"https://drive.google.com/uc?id=1m3dljjwpb5a8XXaHabzOe7cglbqdm_xg\" width=800> </center>\n",
        "\n",
        "<br>\n"
      ]
    },
    {
      "cell_type": "markdown",
      "metadata": {
        "id": "4E7CzDakNtE0"
      },
      "source": [
        "\n",
        "### Examples of association rule mining\n",
        "\n",
        "- **If** a person buys an iphone, **then** there is a high tendency of buying a charger.\n",
        "    - {iphone} -> {charger}\n",
        "\n",
        "- **If** a person buys beer, **then** there is a high tendecy of buying diapers\n",
        " - $\\left\\{ beer \\right \\} -> \\left\\{ diapers \\right\\}$\n",
        "\n",
        "- People buying milk and bread, also tend to buy jam and eggs\n",
        " - $\\left\\{ milk, bread \\right \\} -> \\left\\{ jam, eggs \\right\\}$\n",
        "\n",
        "<center><img src=\"https://drive.google.com/uc?id=1iEt3RUWaonxG965iV2Ai_oEOOxq_1QsO\" width=600, height=400> </center>\n",
        "\n",
        "<br>\n",
        "\n"
      ]
    },
    {
      "cell_type": "markdown",
      "metadata": {
        "id": "wiG_sQtINvGZ"
      },
      "source": [
        "#### Question: Can X and Y be used interchangeably?\n",
        "\n",
        "**No.**\n",
        "\n",
        "$X → Y$ is not the same as $Y → X$\n",
        "\n",
        "When we say,\n",
        "- People buying fries/burger, have high tendecy of buying coke,\n",
        "- that **does not imply** that people buying coke, have a high tendency of buying burger/fries.\n",
        "\n",
        "\n",
        "<center><img src=\"https://drive.google.com/uc?id=1IW_q9kVPB0nScowvXluShiMCMFXX5gmn\" width=600> </center>\n",
        "\n",
        "\n",
        "\n",
        "In order to set these apart, we have the following terminologies in place:\n",
        "- **Antecedent (If):** The items on the LEFT ie., the item which the customer buy\n",
        "- **Consequent (Then):** The items on the RIGHT ie., the item which the customer follows to buy."
      ]
    },
    {
      "cell_type": "markdown",
      "metadata": {
        "id": "D7smRI8wZrae"
      },
      "source": [
        "Let's take another example:\n",
        "\n",
        "Consider that you are at Domino's,\n",
        "- It is more likely for a customer to buy combination of **pizza + coke**\n",
        "- than a combination of **pizza + garlic bread**\n",
        "\n",
        "Though, both these associations rules hold true:-\n",
        "- $\\left\\{ pizza → coke \\right \\}$\n",
        "- $\\left\\{ pizza → garlic \\ bread \\right \\}$\n",
        "\n",
        "We know that one of them is more strongly associated than the other.\n",
        "\n",
        "\n"
      ]
    },
    {
      "cell_type": "markdown",
      "metadata": {
        "id": "Jv_HrtRjUNTt"
      },
      "source": [
        "<br>\n",
        "\n",
        "###  How do we know which association is more strong ?\n",
        "\n",
        "For this, let's take a look at couple of matrics related to assocation mining\n",
        "\n",
        "- **Support**\n",
        "- **Confidence**\n",
        "- **Lift**\n",
        "\n",
        "\n"
      ]
    },
    {
      "cell_type": "markdown",
      "metadata": {
        "id": "OyAu177HBEf7"
      },
      "source": [
        "\n",
        "## Support\n",
        "\n",
        "\n",
        "Support is a metric of How frequently does an item or item-set occur in the transaction data\n",
        "\n",
        "OR\n",
        "\n",
        "In simple terms, what percentage of transaction contain this item or item set.\n",
        "\n",
        "<br>\n",
        "\n"
      ]
    },
    {
      "cell_type": "markdown",
      "metadata": {
        "id": "db1BsRtVZdcK"
      },
      "source": [
        "#### How is support calculated?\n",
        "\n",
        "This is calculated by dividing the number of transactions of where an itemset $X$ has occured in the transaction (let this be x), by the total number of transactions (let this be N)\n",
        "\n",
        "$Support(X) = \\frac{x}{N}$\n"
      ]
    },
    {
      "cell_type": "markdown",
      "metadata": {
        "id": "bWsxbjwxgtfY"
      },
      "source": [
        "Let's take an example:"
      ]
    },
    {
      "cell_type": "markdown",
      "metadata": {
        "id": "2_SrypZbZ90V"
      },
      "source": [
        "\n",
        "<center><img src=\"https://drive.google.com/uc?id=1NjvESHZMxq5UW2lGYG13LBYUq9I_AfJN\" width=600> </center>\n"
      ]
    },
    {
      "cell_type": "markdown",
      "metadata": {
        "id": "uNnitv71gvrx"
      },
      "source": [
        "#### What will be support(Apple) in this case?\n",
        "- There are 4 transac. in which apple appears\n",
        "- There are total of 5 transac\n",
        "\n",
        "Support(Apple) = $\\frac{4}{5}$ = 0.8 or 80%\n",
        "\n",
        "<br>\n",
        "\n",
        "#### Question: What will be the support{Apple, egg}?\n",
        "- There are 3 transac. in which {apple, egg} occurs\n",
        "\n",
        "Support{apple, egg} = $\\frac{3}{5}$ = 0.6 or 60%"
      ]
    },
    {
      "cell_type": "markdown",
      "metadata": {
        "id": "vRGQxMCPZgu0"
      },
      "source": [
        "\n",
        "<br>\n",
        "\n",
        "#### How can we interpret a support value?\n",
        "\n",
        "\n",
        "- support is essentially the probability of an item-set $X$ occuring in the transaction data $T$.\n",
        "\n",
        "\n",
        "#### Hack to rememeber\n",
        "\n",
        "How many transactions **support** the claim of this product to be a popular one.\n",
        "\n",
        "- Intuitively, it tell how popular is the product.\n",
        "- If a product is popular, more number of transaction will have it, and hence, more will be support\n"
      ]
    },
    {
      "cell_type": "markdown",
      "metadata": {
        "id": "0lGKQfHyDGUW"
      },
      "source": [
        "## Confidence\n",
        "\n",
        "Using Association rules, we stated that a person buying $X$ also tends to by $Y$, where $X$ and $Y$ are item sets.\n",
        "\n",
        "#### Since we need to base some business decisions on this, How confident are we in this statement?\n",
        "\n",
        "- If we know that people buying milk and bread also tend to buy jam and eggs,\n",
        "    - then we can make a business decision and place all these items very close to each other.\n",
        "\n",
        "But in order to make that decision, we first need to know how sure in this.\n",
        "\n",
        "This can be answered by a term in market basket analysis called **confidence**\n",
        "\n",
        "Confidence tells about the number of times these relationships have been found to be true\n",
        "\n",
        "<br>\n"
      ]
    },
    {
      "cell_type": "markdown",
      "metadata": {
        "id": "M2SMUZandNNU"
      },
      "source": [
        "\n",
        "#### How can we calculate confidence?\n",
        "\n",
        "This can be calculated by dividing the number of times both $X$ and $Y$ occur in transactions, by the number of times just $X$ occurs in transactions.\n",
        "\n",
        "$confidence(X->Y) = \\frac{Number \\ of \\ transactions \\ with \\ X \\ and \\ Y}{Number \\ of \\ transactions \\ with \\ X}$\n",
        "\n"
      ]
    },
    {
      "cell_type": "markdown",
      "metadata": {
        "id": "X1yaOcxyhc9g"
      },
      "source": [
        "\n",
        "<br>\n",
        "\n",
        "#### How can we interpret a confidence value?\n",
        "\n",
        "- This can be thought of as probability of $Y$ conditioned on $X$, $P(Y|X)$\n",
        "\n",
        " - i.e. Of all the times that $X$ occurs, how many times do we observe $Y$.\n",
        "\n",
        " - If $X U Y$ is a frequent itemset itself, then the confidence will be very high $≈90$%\n",
        "\n",
        "- The confidence measure helps identify which product drives the sale of which other product.\n",
        " - For any two products, A drives B  {A ⇒ B} is not the same as B drives A, {B ⇒ A}\n",
        "\n",
        "\n",
        "<center><img src=\"https://drive.google.com/uc?id=17rACPsQ_zsyix1WPwjGPLUUNUDBPbhjM\" width=600> </center>\n",
        "\n"
      ]
    },
    {
      "cell_type": "markdown",
      "metadata": {
        "id": "zJyBlPaJyhKw"
      },
      "source": [
        "#### What would be the confidence{apple -> egg} ?\n",
        "\n",
        "Confidence{apple -> egg} = $ \\frac{ \\# \\space apple \\space and  \\space egg \\space occur \\space together}{\\# times \\space apple \\space occur} $\n",
        "\n",
        "=> $\\frac{3}{5}$ = 0.75\n",
        "\n",
        "- confidence value of 0.75 implies that out of all transactions that contain apple, 75% of them also contain egg."
      ]
    },
    {
      "cell_type": "markdown",
      "metadata": {
        "id": "PKrf1Otu004Y"
      },
      "source": [
        "**Note:**\n",
        "\n",
        "- Confidence values range from 0 to 1, where\n",
        "- 0 indicates that B is never purchased when A is purchased, and\n",
        "- 1 indicates that B is always purchased whenever A is purchased."
      ]
    },
    {
      "cell_type": "markdown",
      "metadata": {
        "id": "iEb96EldH-vN"
      },
      "source": [
        "**Note:**\n",
        "- A rule may show a strong correlation in a data set because it appears very often but may occur far less when applied (i.e checked against the antecedent).\n",
        " - This would be a **case of high support, but low confidence**.\n",
        "\n",
        "- Conversely, a rule might not particularly stand out in a data set, but continued analysis shows that it occurs very frequently.\n",
        " - This would be a **case of high confidence and low support**."
      ]
    },
    {
      "cell_type": "markdown",
      "metadata": {
        "id": "BU4nVschIYZt"
      },
      "source": [
        "\n",
        "\n",
        "#### Issue with confidence\n",
        "\n",
        "Consider the combination: {Cornflakes} → {Milk}\n",
        "- This should be a high confidence rule.\n",
        "\n",
        "<br>\n",
        "\n",
        "> **Q. What about {Yogurt} → {Milk}?**\n",
        "\n",
        "High again.\n",
        "\n",
        "<br>\n",
        "\n",
        "> **Q. What about {Toothbrush} → {Milk}?**\n",
        "\n",
        "Not so sure?\n",
        "- Confidence for this rule will also be **high** since {Milk} is such a frequent itemset and would be present in every other transaction.\n",
        "\n",
        "- It does not matter what you have in the antecedent for such a frequent consequent.\n",
        "- The confidence for an association rule having a very frequent consequent will always be high\n",
        "\n",
        "Analyse this:\n",
        "<ul>\n",
        "<li>Total transactions = 100\n",
        "<li> 80 of them have milk\n",
        "<li> 14 of them have toothbrush\n",
        "<li> 10 of them have both milk and toothbrush\n",
        "</ul>\n",
        "\n",
        "Confidence for {Toothbrush} → {Milk} will be 10/14 = 0.7\n",
        "\n",
        "Looks like a high confidence value. But we know intuitively that these two products have a weak association and there is something misleading about this high confidence value.\n",
        "\n",
        "<br>\n",
        "\n",
        "\n",
        "\n",
        "\n",
        "\n"
      ]
    },
    {
      "cell_type": "markdown",
      "metadata": {
        "id": "hk30l-Ntzxgs"
      },
      "source": [
        "#### How can we overcome this problem?\n",
        "\n",
        "Since, Considering just the value of confidence limits our capability to make any business inference.\n",
        "\n",
        "**Lift** is introduced to overcome this challenge."
      ]
    },
    {
      "cell_type": "markdown",
      "metadata": {
        "id": "uT6-tuJPKBJO"
      },
      "source": [
        "## Lift\n",
        "\n",
        "Given two items, A and B, lift indicates whether there is a relationship between A and B, or whether the two items are occuring together in the same orders simply by chance (ie: at random).\n",
        "\n",
        "\n",
        "Let's understand it with an example:\n",
        "\n",
        "\n",
        "<center><img src=\"https://drive.google.com/uc?id=1E3xEP-Er1Dm6BFa8p9XXJVhLyOHyud5i\" width=700, height=400> </center>\n",
        "\n",
        "\n",
        "\n",
        "From the above figures, we can conclude that\n",
        "- if there was no relation between Bread and Milk (that is, they were statistically independent),\n",
        " - then we would have got only 10% of Bread purchasers to buy Milk too.\n",
        "\n",
        "- However, as surprising as it may seem, the figures tell us that 80% (=6000/7500) of the people who buy Bread also buy Milk.\n",
        "\n",
        "This is a significant jump of 8x over what was the expected probability.\n",
        "\n",
        "This **factor of increase is known as Lift** – which is the ratio of the observed frequency of co-occurrence of our items and the expected frequency.\n",
        "\n",
        "Based on the low percentages we are seeing here (1.25%, 10%, 1%), we would have expected a low lift%.  \n",
        "\n",
        "However, the fact that about 80% of Bread purchases include the purchase of Milk indicates a link between Bread and Milk.\n",
        "\n"
      ]
    },
    {
      "cell_type": "markdown",
      "metadata": {
        "id": "9aAzGxVTHXrn"
      },
      "source": [
        "\n",
        "#### How is lift calculated?\n",
        "\n",
        "\n",
        "It is based on the idea that, if $X$ and $Y$ are independent events, then the probability of $X and Y$ is equal to the product of their individual probabilities: $P(X ∩ Y) = P(X) . P(Y)$\n",
        "\n",
        "Lift can be calculated by dividing the support of X and Y, by their individual support values.\n",
        "\n",
        "$lift(X → Y) = \\frac{support(X ∩ Y)}{support(X).support(Y)} = \\frac{confidence(X → Y)}{support(Y)}$\n",
        "\n",
        "This can be interpreted as being the same as: $\\frac{P(X ∩ Y)}{P(X) . P(Y)}$\n",
        "\n",
        "<center><img src=\"https://drive.google.com/uc?id=1sBuSIodPfZGx0LucdybHS5s3AXw8Ui7J\" width=700, height=400> </center>\n"
      ]
    },
    {
      "cell_type": "markdown",
      "metadata": {
        "id": "oCiMGA0J1ByZ"
      },
      "source": [
        "\n",
        "<br>\n",
        "\n",
        "#### What happens if X and Y are actually independent?\n",
        "\n",
        "In that case, the numerator and denominator will be both equal, and give a result of 1.\n",
        "\n",
        "Otherwise, the numerator will be greater.\n",
        "\n",
        "- $lift(X→Y) = 1$, if X and Y are independent\n",
        "- $lift(X→Y) < 1$, unlikely to be bought together: **negative correlation**\n",
        "- $lift(X → Y) > 1$, likely to be bought together: **positive correlation**\n",
        "\n",
        "**Note:**\n",
        "- The value of lift ranges from **0 to infinity**.\n",
        "\n",
        "<center><img src=\"https://drive.google.com/uc?id=1OthtFLTk7dwd8yK6ajbWCok0PdYLtRJ4\" width=900, height=300> </center>\n"
      ]
    },
    {
      "cell_type": "markdown",
      "metadata": {
        "id": "zPIyEDH1LO_Y"
      },
      "source": [
        "Now if we analyse the two itemset pair where both had high confidence :\n",
        "\n",
        "$Lift\\left\\{Bread -> Milk\\right\\} = \\frac{Confidence \\left\\{Bread -> Milk\\right\\}}{ Support(Milk)}$\n",
        "$ = \\frac{6000/7500}{60,000/600,000} = 80$\n",
        "\n",
        "<br>\n",
        "\n",
        "Similarly, we get\n",
        "\n",
        "$ Lift \\left\\{Toothbrush → Milk \\right\\} = \\frac{Confidence \\left\\{Toothpaste -> Milk\\right\\}}{ Support(Milk)} = \\frac{0.7}{0.8} = 0.87$\n",
        "\n",
        "<br>\n",
        "A value of lift less than 1 shows that having toothbrush on the cart does not increase the chances of occurrence of milk on the cart in spite of the rule showing a high confidence value\n",
        "\n"
      ]
    },
    {
      "cell_type": "markdown",
      "metadata": {
        "id": "QQrPjz6koVcS"
      },
      "source": [
        "![image.png](data:image/png;base64,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)"
      ]
    },
    {
      "cell_type": "markdown",
      "metadata": {
        "id": "pyqSVXH6GrRf"
      },
      "source": [
        "#### Code walkthrough\n",
        "\n",
        "\n",
        "\n",
        "\n",
        "- After applying the apriori algorithm and finding the frequently bought item, we apply the association rules.\n",
        "- From association rules, we could extract information about which items are more effective to be sold together\n",
        "\n",
        "We have a built-in function `association_rules` for this as well in the same library: `mlxtend.frequent_patterns`.\n",
        "\n",
        "**Note:**\n",
        "- We pass the frequent item sets we got from apriori algo as the parameter here."
      ]
    },
    {
      "cell_type": "code",
      "execution_count": null,
      "metadata": {
        "id": "1YJjg3KYG1bp"
      },
      "outputs": [],
      "source": [
        "from mlxtend.frequent_patterns import association_rules"
      ]
    },
    {
      "cell_type": "code",
      "execution_count": null,
      "metadata": {
        "colab": {
          "base_uri": "https://localhost:8080/",
          "height": 320
        },
        "id": "IdBKJOE3HsMM",
        "outputId": "99f36f86-cce8-46c3-ea17-07dcdc5d01e6"
      },
      "outputs": [
        {
          "data": {
            "text/html": [
              "\n",
              "  <div id=\"df-a5a4d937-920d-4a68-b552-789dd9f5fce1\">\n",
              "    <div class=\"colab-df-container\">\n",
              "      <div>\n",
              "<style scoped>\n",
              "    .dataframe tbody tr th:only-of-type {\n",
              "        vertical-align: middle;\n",
              "    }\n",
              "\n",
              "    .dataframe tbody tr th {\n",
              "        vertical-align: top;\n",
              "    }\n",
              "\n",
              "    .dataframe thead th {\n",
              "        text-align: right;\n",
              "    }\n",
              "</style>\n",
              "<table border=\"1\" class=\"dataframe\">\n",
              "  <thead>\n",
              "    <tr style=\"text-align: right;\">\n",
              "      <th></th>\n",
              "      <th>antecedents</th>\n",
              "      <th>consequents</th>\n",
              "      <th>antecedent support</th>\n",
              "      <th>consequent support</th>\n",
              "      <th>support</th>\n",
              "      <th>confidence</th>\n",
              "      <th>lift</th>\n",
              "      <th>leverage</th>\n",
              "      <th>conviction</th>\n",
              "    </tr>\n",
              "  </thead>\n",
              "  <tbody>\n",
              "    <tr>\n",
              "      <th>0</th>\n",
              "      <td>(yogurt, whole milk)</td>\n",
              "      <td>(sausage)</td>\n",
              "      <td>0.011161</td>\n",
              "      <td>0.060349</td>\n",
              "      <td>0.001470</td>\n",
              "      <td>0.131737</td>\n",
              "      <td>2.182917</td>\n",
              "      <td>0.000797</td>\n",
              "      <td>1.082219</td>\n",
              "    </tr>\n",
              "    <tr>\n",
              "      <th>1</th>\n",
              "      <td>(sausage)</td>\n",
              "      <td>(yogurt, whole milk)</td>\n",
              "      <td>0.060349</td>\n",
              "      <td>0.011161</td>\n",
              "      <td>0.001470</td>\n",
              "      <td>0.024363</td>\n",
              "      <td>2.182917</td>\n",
              "      <td>0.000797</td>\n",
              "      <td>1.013532</td>\n",
              "    </tr>\n",
              "    <tr>\n",
              "      <th>2</th>\n",
              "      <td>(whole milk, sausage)</td>\n",
              "      <td>(yogurt)</td>\n",
              "      <td>0.008955</td>\n",
              "      <td>0.085879</td>\n",
              "      <td>0.001470</td>\n",
              "      <td>0.164179</td>\n",
              "      <td>1.911760</td>\n",
              "      <td>0.000701</td>\n",
              "      <td>1.093681</td>\n",
              "    </tr>\n",
              "    <tr>\n",
              "      <th>3</th>\n",
              "      <td>(yogurt)</td>\n",
              "      <td>(whole milk, sausage)</td>\n",
              "      <td>0.085879</td>\n",
              "      <td>0.008955</td>\n",
              "      <td>0.001470</td>\n",
              "      <td>0.017121</td>\n",
              "      <td>1.911760</td>\n",
              "      <td>0.000701</td>\n",
              "      <td>1.008307</td>\n",
              "    </tr>\n",
              "    <tr>\n",
              "      <th>4</th>\n",
              "      <td>(specialty chocolate)</td>\n",
              "      <td>(citrus fruit)</td>\n",
              "      <td>0.015973</td>\n",
              "      <td>0.053131</td>\n",
              "      <td>0.001403</td>\n",
              "      <td>0.087866</td>\n",
              "      <td>1.653762</td>\n",
              "      <td>0.000555</td>\n",
              "      <td>1.038081</td>\n",
              "    </tr>\n",
              "  </tbody>\n",
              "</table>\n",
              "</div>\n",
              "      <button class=\"colab-df-convert\" onclick=\"convertToInteractive('df-a5a4d937-920d-4a68-b552-789dd9f5fce1')\"\n",
              "              title=\"Convert this dataframe to an interactive table.\"\n",
              "              style=\"display:none;\">\n",
              "        \n",
              "  <svg xmlns=\"http://www.w3.org/2000/svg\" height=\"24px\"viewBox=\"0 0 24 24\"\n",
              "       width=\"24px\">\n",
              "    <path d=\"M0 0h24v24H0V0z\" fill=\"none\"/>\n",
              "    <path d=\"M18.56 5.44l.94 2.06.94-2.06 2.06-.94-2.06-.94-.94-2.06-.94 2.06-2.06.94zm-11 1L8.5 8.5l.94-2.06 2.06-.94-2.06-.94L8.5 2.5l-.94 2.06-2.06.94zm10 10l.94 2.06.94-2.06 2.06-.94-2.06-.94-.94-2.06-.94 2.06-2.06.94z\"/><path d=\"M17.41 7.96l-1.37-1.37c-.4-.4-.92-.59-1.43-.59-.52 0-1.04.2-1.43.59L10.3 9.45l-7.72 7.72c-.78.78-.78 2.05 0 2.83L4 21.41c.39.39.9.59 1.41.59.51 0 1.02-.2 1.41-.59l7.78-7.78 2.81-2.81c.8-.78.8-2.07 0-2.86zM5.41 20L4 18.59l7.72-7.72 1.47 1.35L5.41 20z\"/>\n",
              "  </svg>\n",
              "      </button>\n",
              "      \n",
              "  <style>\n",
              "    .colab-df-container {\n",
              "      display:flex;\n",
              "      flex-wrap:wrap;\n",
              "      gap: 12px;\n",
              "    }\n",
              "\n",
              "    .colab-df-convert {\n",
              "      background-color: #E8F0FE;\n",
              "      border: none;\n",
              "      border-radius: 50%;\n",
              "      cursor: pointer;\n",
              "      display: none;\n",
              "      fill: #1967D2;\n",
              "      height: 32px;\n",
              "      padding: 0 0 0 0;\n",
              "      width: 32px;\n",
              "    }\n",
              "\n",
              "    .colab-df-convert:hover {\n",
              "      background-color: #E2EBFA;\n",
              "      box-shadow: 0px 1px 2px rgba(60, 64, 67, 0.3), 0px 1px 3px 1px rgba(60, 64, 67, 0.15);\n",
              "      fill: #174EA6;\n",
              "    }\n",
              "\n",
              "    [theme=dark] .colab-df-convert {\n",
              "      background-color: #3B4455;\n",
              "      fill: #D2E3FC;\n",
              "    }\n",
              "\n",
              "    [theme=dark] .colab-df-convert:hover {\n",
              "      background-color: #434B5C;\n",
              "      box-shadow: 0px 1px 3px 1px rgba(0, 0, 0, 0.15);\n",
              "      filter: drop-shadow(0px 1px 2px rgba(0, 0, 0, 0.3));\n",
              "      fill: #FFFFFF;\n",
              "    }\n",
              "  </style>\n",
              "\n",
              "      <script>\n",
              "        const buttonEl =\n",
              "          document.querySelector('#df-a5a4d937-920d-4a68-b552-789dd9f5fce1 button.colab-df-convert');\n",
              "        buttonEl.style.display =\n",
              "          google.colab.kernel.accessAllowed ? 'block' : 'none';\n",
              "\n",
              "        async function convertToInteractive(key) {\n",
              "          const element = document.querySelector('#df-a5a4d937-920d-4a68-b552-789dd9f5fce1');\n",
              "          const dataTable =\n",
              "            await google.colab.kernel.invokeFunction('convertToInteractive',\n",
              "                                                     [key], {});\n",
              "          if (!dataTable) return;\n",
              "\n",
              "          const docLinkHtml = 'Like what you see? Visit the ' +\n",
              "            '<a target=\"_blank\" href=https://colab.research.google.com/notebooks/data_table.ipynb>data table notebook</a>'\n",
              "            + ' to learn more about interactive tables.';\n",
              "          element.innerHTML = '';\n",
              "          dataTable['output_type'] = 'display_data';\n",
              "          await google.colab.output.renderOutput(dataTable, element);\n",
              "          const docLink = document.createElement('div');\n",
              "          docLink.innerHTML = docLinkHtml;\n",
              "          element.appendChild(docLink);\n",
              "        }\n",
              "      </script>\n",
              "    </div>\n",
              "  </div>\n",
              "  "
            ],
            "text/plain": [
              "             antecedents            consequents  antecedent support  \\\n",
              "0   (yogurt, whole milk)              (sausage)            0.011161   \n",
              "1              (sausage)   (yogurt, whole milk)            0.060349   \n",
              "2  (whole milk, sausage)               (yogurt)            0.008955   \n",
              "3               (yogurt)  (whole milk, sausage)            0.085879   \n",
              "4  (specialty chocolate)         (citrus fruit)            0.015973   \n",
              "\n",
              "   consequent support   support  confidence      lift  leverage  conviction  \n",
              "0            0.060349  0.001470    0.131737  2.182917  0.000797    1.082219  \n",
              "1            0.011161  0.001470    0.024363  2.182917  0.000797    1.013532  \n",
              "2            0.085879  0.001470    0.164179  1.911760  0.000701    1.093681  \n",
              "3            0.008955  0.001470    0.017121  1.911760  0.000701    1.008307  \n",
              "4            0.053131  0.001403    0.087866  1.653762  0.000555    1.038081  "
            ]
          },
          "execution_count": 51,
          "metadata": {},
          "output_type": "execute_result"
        }
      ],
      "source": [
        "rules=association_rules(frequent_itemsets_plus, metric='lift',\n",
        "                  min_threshold=1).sort_values('lift', ascending=False).reset_index(drop=True)\n",
        "rules.head(5)"
      ]
    },
    {
      "cell_type": "markdown",
      "metadata": {
        "id": "YTUEAnFkH1LU"
      },
      "source": [
        "## How can we draw Conclusions from these associations rules?"
      ]
    },
    {
      "cell_type": "markdown",
      "metadata": {
        "id": "ckGpGfeeHyt1"
      },
      "source": [
        "\n",
        "*   We can see {yougurt, milk} and Sausage are the items that has the highest association each other since these two items has the **highest lift value**, i.e 2.18\n",
        "\n",
        " *   This tells us that 'sausage' is 14.6 times more likely to be bought by the customers who buy '{yougurt, milk}' compared to the **default likelihood sale** of 'sausage’\n",
        "\n",
        "* Since the antecedent support > consequent support, the rule that applies is **{yogurt, whole milk} -> sausage**\n",
        "\n",
        " * This means that  a customer has a higher tendency to buy sausage AFTER they buy {yogurt, whole milk}. Not  the other way around\n",
        "\n",
        "\n",
        "- Since we know the sale of yogurt + whole milk drives sales of sausage,\n",
        "    - We can apply promotional offer on yougurt + whole milk combo.\n",
        "    - Hence, driving the sales for sausages up.\n",
        "\n",
        "Similarly, we can draw other business conclusions from these association rules, which will lead in increase in revenue!\n"
      ]
    },
    {
      "cell_type": "markdown",
      "metadata": {
        "id": "yviGH4uhIgzQ"
      },
      "source": [
        "## What Business Strategy can we follow based on these findings?\n",
        "\n",
        "\n",
        "\n",
        "*   **Item Placements:** We could place these two products together for easy accessiblity and increase sales\n",
        "\n",
        "*   **Product Bundling:** We could bundle these two products and sell it together at a discounted price compared to each price combined\n",
        "\n",
        "* **Customer Recommendation & Discounts:** We could place sausages near the cashier, and every time a customer buys yougurt + whole milk, we could offer and recommend them to buy sausages with a lower price\n",
        "\n"
      ]
    },
    {
      "cell_type": "markdown",
      "metadata": {
        "id": "xXUNZSPEGG4T"
      },
      "source": [
        "#### Q. Other than retail setups, can you think of other applications of Market Basket Analysis?\n",
        "\n",
        "##**Bio-informatics**\n",
        "\n",
        "<center><img src=\"https://drive.google.com/uc?id=1DRXHy2Dm4MjtJMIuRaE6FQOdXmT_LJCD\" width=500, height=300> </center>\n",
        "\n",
        "\n",
        " - If two chemical components $c_1$ and $c_3$ occur frequently within different proteins, then we can find out that perhaps there is some relation between these components\n",
        " - If two gene sequences $ATTC$ and $AGTC$ occur frequently, in the sequence of some mammal, then we can find out that perhaps there is some relation between them.\n",
        "\n",
        "##**Telecommunications**.\n",
        "\n",
        "<center><img src=\"https://drive.google.com/uc?id=1lqLxadWCukhCIWZpOynCV-pUqczzO4Zv\" width=300, height=300> </center>\n",
        "\n",
        "\n",
        "\n",
        "  - In Telecommunications, where high churn rates continue to be a growing concern, Market Basket Analysis can be used to determine what services are being utilized and what packages customers are purchasing.\n",
        "    - They can use that knowledge to direct marketing efforts at customers who are more likely to follow the same path.\n",
        "\n",
        "##**Medicine**\n",
        "\n",
        "<center><img src=\"https://drive.google.com/uc?id=1JM-vVs-8DcR-Or4lb7V2v6afmYiyQfwt\" width=300, height=300> </center>\n",
        "\n",
        "\n",
        " - If we find that according to a doctor's presecription, medicines $m_1, m_2$ and $m_3$ are being prescribed frequently, then it means that together they form some combination drug, which can cure a certain ailment.\n",
        "\n",
        "\n",
        "\n",
        "\n",
        "##**Finding similar webpages / web usage mining**\n",
        "\n",
        "<center><img src=\"https://drive.google.com/uc?id=17l5ITUYRk1ssiyWo1NiB9avY_k4uiQdQ\" width=400, height=300> </center>\n",
        "\n",
        " - If in a single session many users are visiting the same webpages ($w_1, w_2, w_3$), then perhaps they are related in nature\n",
        "\n",
        "##**Finding similar words**\n",
        "\n",
        "\n",
        "<center><img src=\"https://drive.google.com/uc?id=1qnxsVFgphVu5teMM5cCYAC1Wwh2WBgbt\" width=550, height=300> </center>"
      ]
    },
    {
      "cell_type": "markdown",
      "metadata": {
        "id": "ha11r_y1SgEA"
      },
      "source": [
        "## Summary"
      ]
    },
    {
      "cell_type": "markdown",
      "metadata": {
        "id": "8wwm68T5ShgT"
      },
      "source": [
        "- Market basket analysis is a business problem, which can be solved using **Apriori algorithm / FP growth algorithm**.\n",
        "- Also, market basket analysis can be interpreted in the context of **association rule mining**\n",
        "- To find these association rule mining, and frequent item sets, we will still go to appriori and FP growth algos\n",
        "\n"
      ]
    },
    {
      "cell_type": "markdown",
      "metadata": {
        "id": "i0oh50LkDxNu"
      },
      "source": [
        "## Optional metrics"
      ]
    },
    {
      "cell_type": "markdown",
      "metadata": {
        "id": "PwXrEQ_vr5Kp"
      },
      "source": [
        "#### Leverage\n",
        "\n",
        "There is another metric called **leverage** that is constructed using support. This is very similar to lift.\n",
        "\n",
        "<br>\n",
        "\n",
        "> **Q. How is leverage calculated?**\n",
        "\n",
        "To compute the leverage of \"if X then Y\" i.e. $X->Y$, we compute the support of $X and Y$, and subtract the product of support of X, and support of Y from it.\n",
        "\n",
        "$leverage(X->Y) = support(X \\cap Y) - (support(X)*support(Y))$\n",
        "\n",
        "<br>\n",
        "\n",
        "> **Q. What is the advantage of using leverage over lift values**\n",
        "\n",
        "- Though it is similar to lift, but leverage is **easier to interpret**.\n",
        "- Leverage value lies in the range of **-1 to +1**, whereas lift value ranges from 0 to infinity."
      ]
    },
    {
      "cell_type": "markdown",
      "metadata": {
        "id": "wiJyq-8RyZJq"
      },
      "source": [
        "#### Conviction\n",
        "\n",
        "> **Q. How can we calculate conviction value?**\n",
        "\n",
        "It can be calculated as the ratio of the expected frequency that X occurs without Y if X and Y were independent divided by the observed frequency of incorrect predictions.\n",
        "\n",
        "$Conv (X → Y) = \\frac{1 - S(Y)}{1 - C(X → Y)}$\n",
        "\n",
        "<br>\n",
        "\n",
        "> **Note**\n",
        "\n",
        "A high value means that the consequent depends strongly on the antecedent.\n"
      ]
    }
  ],
  "metadata": {
    "colab": {
      "provenance": []
    },
    "kernelspec": {
      "display_name": "Python 3",
      "name": "python3"
    },
    "language_info": {
      "name": "python"
    }
  },
  "nbformat": 4,
  "nbformat_minor": 0
}